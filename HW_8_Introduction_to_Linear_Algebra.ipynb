{
  "cells": [
    {
      "cell_type": "code",
      "execution_count": 1,
      "id": "6af9acfd",
      "metadata": {
        "id": "6af9acfd"
      },
      "outputs": [],
      "source": [
        "import numpy as np\n",
        "from scipy import linalg\n",
        "import matplotlib.pyplot as plt\n",
        "%matplotlib inline\n",
        "%config InlineBackend.figure_format = 'svg'"
      ]
    },
    {
      "cell_type": "markdown",
      "id": "a38c5e2c",
      "metadata": {
        "id": "a38c5e2c"
      },
      "source": [
        "# Практическое задание №6"
      ]
    },
    {
      "cell_type": "markdown",
      "id": "6b1b3cb4",
      "metadata": {
        "id": "6b1b3cb4"
      },
      "source": [
        "## Задание 1.\n",
        "\n",
        "**Решите линейную систему:**"
      ]
    },
    {
      "cell_type": "markdown",
      "id": "0f78784e",
      "metadata": {
        "id": "0f78784e"
      },
      "source": [
        "$\\begin{bmatrix}\n",
        "1 & 2 & 3\\\\\n",
        "4 & 0 & 6\\\\\n",
        "7 & 8 & 9\n",
        "\\end{bmatrix} \\cdot X = \\begin{bmatrix}12 \\\\2\\\\1\\end{bmatrix}$"
      ]
    },
    {
      "cell_type": "markdown",
      "id": "e092a008",
      "metadata": {
        "id": "e092a008"
      },
      "source": [
        "Решаем методом Крамера\n",
        "\n",
        "$\\Delta \\begin{bmatrix}\n",
        "1 & 2 & 3 \\\\\n",
        "4 & 0 & 6 \\\\\n",
        "7 & 8 & 9 \\\\\n",
        "\\end{bmatrix} =\n",
        "1 \\cdot \\begin{bmatrix}\n",
        "0 & 6 \\\\\n",
        "8 & 9 \\\\\n",
        "\\end{bmatrix} -\n",
        "2 \\cdot \\begin{bmatrix}\n",
        "4 & 6 \\\\\n",
        "7 & 9 \\\\\n",
        "\\end{bmatrix} +\n",
        "3 \\cdot \\begin{bmatrix}\n",
        "4 & 0 \\\\\n",
        "7 & 8 \\\\\n",
        "\\end{bmatrix} =\n",
        "1(0 \\cdot 9 - 6 \\cdot 8) - 2(4 \\cdot 9 - 6 \\cdot 7) + 3( 4 \\cdot 8 - 0 \\cdot 7) = -48 - 72 + 84 + 96 = 60\n",
        "$"
      ]
    },
    {
      "cell_type": "markdown",
      "id": "c76ace90",
      "metadata": {
        "id": "c76ace90"
      },
      "source": [
        "$\\Delta _x \\begin{bmatrix}\n",
        "12 & 2 & 3 \\\\\n",
        "2 & 0 & 6 \\\\\n",
        "1 & 8 & 9 \\\\\n",
        "\\end{bmatrix} =\n",
        "12 \\cdot \\begin{bmatrix}\n",
        "0 & 6 \\\\\n",
        "8 & 9 \\\\\n",
        "\\end{bmatrix} -\n",
        "2 \\cdot \\begin{bmatrix}\n",
        "2 & 6 \\\\\n",
        "1 & 9 \\\\\n",
        "\\end{bmatrix} +\n",
        "3 \\cdot \\begin{bmatrix}\n",
        "2 & 0 \\\\\n",
        "1 & 8 \\\\\n",
        "\\end{bmatrix} =\n",
        "12(0 \\cdot 9 - 6 \\cdot 8) - 2(2 \\cdot 9 - 6 \\cdot 1) + 3( 2 \\cdot 8 - 0 \\cdot 1) = 0 - 576 - 36 + 12 + 48 = -552\n",
        "$"
      ]
    },
    {
      "cell_type": "markdown",
      "id": "389dfa42",
      "metadata": {
        "id": "389dfa42"
      },
      "source": [
        "$\\Delta _y \\begin{bmatrix}\n",
        "1 & 12 & 3 \\\\\n",
        "4 & 2 & 6 \\\\\n",
        "7 & 1 & 9 \\\\\n",
        "\\end{bmatrix} =\n",
        "1 \\cdot \\begin{bmatrix}\n",
        "2 & 6 \\\\\n",
        "1 & 9 \\\\\n",
        "\\end{bmatrix} -\n",
        "12 \\cdot \\begin{bmatrix}\n",
        "4 & 6 \\\\\n",
        "7 & 9 \\\\\n",
        "\\end{bmatrix} +\n",
        "3 \\cdot \\begin{bmatrix}\n",
        "4 & 2 \\\\\n",
        "7 & 1 \\\\\n",
        "\\end{bmatrix} =\n",
        "1(2 \\cdot 9 - 6 \\cdot 1) - 12(4 \\cdot 9 - 6 \\cdot 7) + 3( 4 \\cdot 1 - 2 \\cdot 7) = 18 - 6 - 432 + 504 + 12 - 42 = 54\n",
        "$"
      ]
    },
    {
      "cell_type": "markdown",
      "id": "be4ff8ba",
      "metadata": {
        "id": "be4ff8ba"
      },
      "source": [
        "$\\Delta _z \\begin{bmatrix}\n",
        "1 & 2 & 12 \\\\\n",
        "4 & 0 & 2 \\\\\n",
        "7 & 8 & 1 \\\\\n",
        "\\end{bmatrix} =\n",
        "1 \\cdot \\begin{bmatrix}\n",
        "0 & 2 \\\\\n",
        "8 & 1 \\\\\n",
        "\\end{bmatrix} -\n",
        "2 \\cdot \\begin{bmatrix}\n",
        "4 & 2 \\\\\n",
        "7 & 1 \\\\\n",
        "\\end{bmatrix} +\n",
        "12 \\cdot \\begin{bmatrix}\n",
        "4 & 0 \\\\\n",
        "7 & 8 \\\\\n",
        "\\end{bmatrix} =\n",
        "1(0 \\cdot 1 - 2 \\cdot 8) - 2(4 \\cdot 1 - 2 \\cdot 7) + 12( 4 \\cdot 8 - 0 \\cdot 7) = -16 - 8 + 28 + 384 = 388\n",
        "$"
      ]
    },
    {
      "cell_type": "markdown",
      "id": "0703bce6",
      "metadata": {
        "id": "0703bce6"
      },
      "source": [
        "$x = \\frac{\\Delta _x}{\\Delta} = \\frac{-552}{60} = -\\frac{46 \\cdot 12}{5 \\cdot 12} = - \\frac{46}{5} = -9.2$"
      ]
    },
    {
      "cell_type": "markdown",
      "id": "1c3c857f",
      "metadata": {
        "id": "1c3c857f"
      },
      "source": [
        "$y = \\frac{\\Delta _y}{\\Delta} = \\frac{54}{60} = \\frac{9 \\cdot 6}{10 \\cdot 6} = \\frac{9}{10} = 0.9$"
      ]
    },
    {
      "cell_type": "markdown",
      "id": "293060cb",
      "metadata": {
        "id": "293060cb"
      },
      "source": [
        "$z = \\frac{\\Delta _z}{\\Delta} = \\frac{388}{60} = \\frac{97 \\cdot 4}{15 \\cdot 4} = \\frac{97}{18} = \\frac{6 \\cdot 15 + 7}{15} = 6 \\frac{7}{15} = 6.46(6)$"
      ]
    },
    {
      "cell_type": "markdown",
      "id": "ff7c8659",
      "metadata": {
        "id": "ff7c8659"
      },
      "source": [
        "## Задание 2.\n",
        "\n",
        "**Найдите псевдорешение:**\n",
        "\n",
        "$x + 2y – z = 1$\n",
        "\n",
        "$3x – 4y = 7$\n",
        "\n",
        "$8x – 5y + 2z = 12$\n",
        "\n",
        "$2x – 5z = 7$\n",
        "\n",
        "$11x +4y – 7z = 15$"
      ]
    },
    {
      "cell_type": "markdown",
      "id": "08e6a5e4",
      "metadata": {
        "id": "08e6a5e4"
      },
      "source": [
        "это переопределённая система, так как уравнений больше, чем неизвестных"
      ]
    },
    {
      "cell_type": "code",
      "execution_count": 3,
      "id": "0b2d44fb",
      "metadata": {
        "colab": {
          "base_uri": "https://localhost:8080/"
        },
        "id": "0b2d44fb",
        "outputId": "4b5e588f-c67a-44ef-d28d-b6334fa9e288"
      },
      "outputs": [
        {
          "output_type": "execute_result",
          "data": {
            "text/plain": [
              "(array([ 1.13919353, -0.90498444, -0.9009803 ]),\n",
              " array([0.71523211]),\n",
              " 3,\n",
              " array([15.2817306 ,  9.59852942,  3.65197794]))"
            ]
          },
          "metadata": {},
          "execution_count": 3
        }
      ],
      "source": [
        "A = np.array([[1, 2, -1], [3, -4, 0], [8, -5, 2], [2, 0, -5], [11, 4, -7]])\n",
        "B = np.array([1, 7, 12, 7, 15])\n",
        "np.linalg.lstsq(A, B, rcond=None)"
      ]
    },
    {
      "cell_type": "markdown",
      "id": "ce887330",
      "metadata": {
        "id": "ce887330"
      },
      "source": [
        "## Задание 3.\n",
        "\n",
        "**Сколько решений имеет линейная система:**"
      ]
    },
    {
      "cell_type": "markdown",
      "id": "1037a052",
      "metadata": {
        "id": "1037a052"
      },
      "source": [
        "$\\begin{bmatrix}\n",
        "1 & 2 & 3\\\\\n",
        "4 & 5 & 6\\\\\n",
        "7 & 8 & 9\n",
        "\\end{bmatrix} \\cdot X = \\begin{bmatrix}12 \\\\2\\\\1\\end{bmatrix}$"
      ]
    },
    {
      "cell_type": "code",
      "execution_count": 16,
      "id": "0033ddde",
      "metadata": {
        "colab": {
          "base_uri": "https://localhost:8080/"
        },
        "id": "0033ddde",
        "outputId": "c8fbc74f-e8cc-428b-d045-17d24e6df670"
      },
      "outputs": [
        {
          "output_type": "stream",
          "name": "stdout",
          "text": [
            "матрица A =\n",
            "[[1 2 3]\n",
            " [4 5 6]\n",
            " [7 8 9]]\n",
            "\n",
            "вектор B = [[12.  2.  1.]]\n",
            "\n",
            "расширенная матрица С =\n",
            "[[ 1.  2.  3. 12.]\n",
            " [ 4.  5.  6.  2.]\n",
            " [ 7.  8.  9.  1.]]\n",
            "\n",
            "ранг матрицы A = 2\n",
            "ранг матрицы C = 3\n"
          ]
        }
      ],
      "source": [
        "A, B = np.array([[1, 2, 3], [4, 5, 6], [7, 8, 9]]), np.array([[12, 2, 1]], float)\n",
        "C = np.concatenate((A,B.T), axis=1)\n",
        "print(f'матрица A =\\n{A}\\n\\nвектор B = {B}\\n\\nрасширенная матрица С =\\n{C}')\n",
        "print(f'\\nранг матрицы A = {np.linalg.matrix_rank(A)}\\nранг матрицы C = {np.linalg.matrix_rank(C)}')"
      ]
    },
    {
      "cell_type": "markdown",
      "id": "bb9fe42a",
      "metadata": {
        "id": "bb9fe42a"
      },
      "source": [
        "система несовместима, решений не имеет, т.к.ранги матриц A и C не совпадают\n",
        "изменим вектор правой части на (2, 5, 8)"
      ]
    },
    {
      "cell_type": "code",
      "execution_count": 5,
      "id": "6cfdbcb8",
      "metadata": {
        "colab": {
          "base_uri": "https://localhost:8080/"
        },
        "id": "6cfdbcb8",
        "outputId": "6a1c81f4-9e86-472a-cd5c-5fbf09c6a3d3"
      },
      "outputs": [
        {
          "output_type": "stream",
          "name": "stdout",
          "text": [
            "матрица C_ =\n",
            "[[1. 2. 3. 2.]\n",
            " [4. 5. 6. 5.]\n",
            " [7. 8. 9. 8.]]\n",
            "\n",
            "её ранг = 2\n"
          ]
        }
      ],
      "source": [
        "C_ = np.concatenate((A, np.array([[2, 5, 8]], float).T), axis=1)\n",
        "print(f'матрица C_ =\\n{C_}\\n\\nеё ранг = {np.linalg.matrix_rank(C_)}')"
      ]
    },
    {
      "cell_type": "markdown",
      "id": "308faa09",
      "metadata": {
        "id": "308faa09"
      },
      "source": [
        "ранги матриц A и C_ совпадают $\\Rightarrow$ решаем"
      ]
    },
    {
      "cell_type": "markdown",
      "id": "83ad228d",
      "metadata": {
        "id": "83ad228d"
      },
      "source": [
        "$\n",
        "\\begin{cases}\n",
        "x_1 + 2x_2 + 3x_3 = 2\\\\\n",
        "-3x_2 - 6x_3 = -3\n",
        "\\end{cases} \\sim\n",
        "\\begin{cases}\n",
        "x_1 + 2x_2 + 3x_3 = 2\\\\\n",
        "x_2 = 1 - 2x_3\n",
        "\\end{cases} \\sim\n",
        "\\begin{cases}\n",
        "x_1 = 2 - 2x_2 - 3x_3\\\\\n",
        "x_2 = 1 - 2x_3\n",
        "\\end{cases} \\sim\n",
        "\\begin{cases}\n",
        "x_1 = 2 - 2(1 - 2x_3) - 3x_3\\\\\n",
        "x_2 = 1 - 2x_3\n",
        "\\end{cases} \\sim\n",
        "\\begin{cases}\n",
        "x_1 = x_3\\\\\n",
        "x_2 = 1 - 2x_3\n",
        "\\end{cases}\n",
        "$"
      ]
    },
    {
      "cell_type": "markdown",
      "id": "ccf16401",
      "metadata": {
        "id": "ccf16401"
      },
      "source": [
        "$\\Rightarrow X =\n",
        "\\begin{pmatrix}\n",
        "  x_3 \\\\\n",
        "  1 - 2x_3 \\\\\n",
        "  x_3\n",
        "\\end{pmatrix}$"
      ]
    },
    {
      "cell_type": "markdown",
      "id": "fa958ed6",
      "metadata": {
        "id": "fa958ed6"
      },
      "source": [
        "## Задание 4.\n",
        "\n",
        "**Вычислите LU-разложение матрицы:**\n",
        "\n",
        "$\\begin{bmatrix}\n",
        "1 & 2 & 3\\\\\n",
        "2 & 16 & 21\\\\\n",
        "4 & 28 & 73\n",
        "\\end{bmatrix}$"
      ]
    },
    {
      "cell_type": "markdown",
      "id": "13505ebe",
      "metadata": {
        "id": "13505ebe"
      },
      "source": [
        "LU-разложение производится по формуле $P^T \\cdot A = L \\cdot U$. По этому методу мы представляем произведение матриц $P$ и $A$ в виде произведения двух матриц $L$ и $U$, где:\n",
        "\n",
        "$L$ - нижняя треугольная матрица\n",
        "\n",
        "$U$ - верхняя треугольная матрица\n",
        "\n",
        "$P$ - матрица перестановок\n",
        "\n",
        "по условию $\\Delta A$ должен быть $\\neq 0$\n",
        "\n",
        "вычисляем LU разложение при помощи метода linalg.lu библиотеки scipy"
      ]
    },
    {
      "cell_type": "code",
      "execution_count": 6,
      "id": "0904ead9",
      "metadata": {
        "colab": {
          "base_uri": "https://localhost:8080/"
        },
        "id": "0904ead9",
        "outputId": "b5ff62bb-df84-4b8d-c980-3d8dc5c70b80"
      },
      "outputs": [
        {
          "output_type": "stream",
          "name": "stdout",
          "text": [
            "матрица A =\n",
            "[[ 1  2  3]\n",
            " [ 2 16 21]\n",
            " [ 4 28 73]]\n",
            "\n",
            "её определитель = 432\n",
            "\n",
            "P =\n",
            "[[0. 1. 0.]\n",
            " [0. 0. 1.]\n",
            " [1. 0. 0.]]\n",
            "\n",
            "L =\n",
            "[[ 1.    0.    0.  ]\n",
            " [ 0.25  1.    0.  ]\n",
            " [ 0.5  -0.4   1.  ]]\n",
            "\n",
            "U=\n",
            "[[  4.    28.    73.  ]\n",
            " [  0.    -5.   -15.25]\n",
            " [  0.     0.   -21.6 ]]\n"
          ]
        }
      ],
      "source": [
        "A = np.array([[1, 2, 3], [2, 16, 21], [4, 28, 73]])\n",
        "P, L, U = linalg.lu(A)\n",
        "print(f'матрица A =\\n{A}\\n\\nеё определитель = {round(np.linalg.det(A))}\\n\\nP =\\n{P}\\n\\nL =\\n{L}\\n\\nU=\\n{U}')"
      ]
    },
    {
      "cell_type": "markdown",
      "id": "6b34a033",
      "metadata": {
        "id": "6b34a033"
      },
      "source": [
        "Проверим:"
      ]
    },
    {
      "cell_type": "code",
      "execution_count": 7,
      "id": "857ea053",
      "metadata": {
        "colab": {
          "base_uri": "https://localhost:8080/"
        },
        "id": "857ea053",
        "outputId": "43ed8e62-673a-43a6-c30e-8b456f9be6d1"
      },
      "outputs": [
        {
          "output_type": "stream",
          "name": "stdout",
          "text": [
            "P.T*A =\n",
            "[[ 4. 28. 73.]\n",
            " [ 1.  2.  3.]\n",
            " [ 2. 16. 21.]]\n",
            "\n",
            "L*U =\n",
            "[[ 4. 28. 73.]\n",
            " [ 1.  2.  3.]\n",
            " [ 2. 16. 21.]]\n",
            "\n",
            "сравним: True\n"
          ]
        }
      ],
      "source": [
        "print(f'P.T*A =\\n{np.dot(P.T, A)}\\n\\nL*U =\\n{np.dot(L, U)}\\n\\nсравним: {np.array_equal(np.dot(P.T, A), np.dot(L, U))}')"
      ]
    },
    {
      "cell_type": "markdown",
      "id": "282585f3",
      "metadata": {
        "id": "282585f3"
      },
      "source": [
        "## Задание 5.\n",
        "\n",
        "**Найдите нормальное псевдорешение недоопределенной системы**\n",
        "\n",
        "$\n",
        "\\begin{cases}\n",
        "x - 2y - z = 1\\\\\n",
        "8x - 5y + 2z = 12\n",
        "\\end{cases}$\n",
        "\n",
        "**Для этого определите функцию Q(x,y,z), равную норме решения, и найдите ее минимум.**"
      ]
    },
    {
      "cell_type": "markdown",
      "id": "199eb91c",
      "metadata": {
        "id": "199eb91c"
      },
      "source": [
        "недоопределённая - неизвестных больше, чем уравнений - решений бесконечное количество. Выражаем две переменных, строим график\n",
        "\n",
        "$\n",
        "\\begin{cases}\n",
        "x - 2y - z = 1\\\\\n",
        "8x - 5y + 2z = 12\n",
        "\\end{cases} \\sim\n",
        "\\begin{cases}\n",
        "z = x + 2y - 1\\\\\n",
        "8x - 5y + 2(x + 2y - 1) = 12\n",
        "\\end{cases} \\sim\n",
        "\\begin{cases}\n",
        "z = x + 2y - 1\\\\\n",
        "8x - 5y + 2x + 4y - 2 = 12\n",
        "\\end{cases} \\sim\n",
        "\\begin{cases}\n",
        "z = x + 2y - 1\\\\\n",
        "10x - y = 14\n",
        "\\end{cases} \\sim\n",
        "\\begin{cases}\n",
        "z = x + 2y - 1\\\\\n",
        "y = 10x - 14\n",
        "\\end{cases}\n",
        "$"
      ]
    },
    {
      "cell_type": "markdown",
      "id": "66e9af15",
      "metadata": {
        "id": "66e9af15"
      },
      "source": [
        "найдём нормальное псевдорешение с помошью модуля linalg.lstsq()"
      ]
    },
    {
      "cell_type": "code",
      "execution_count": 8,
      "id": "d64ec978",
      "metadata": {
        "colab": {
          "base_uri": "https://localhost:8080/"
        },
        "id": "d64ec978",
        "outputId": "f307b5a2-68b6-41c4-faeb-7ac76fa9273d"
      },
      "outputs": [
        {
          "output_type": "execute_result",
          "data": {
            "text/plain": [
              "(array([ 1.38191882, -0.18081181,  0.0202952 ]),\n",
              " array([], dtype=float64),\n",
              " 2,\n",
              " array([9.65316119, 2.41173777]))"
            ]
          },
          "metadata": {},
          "execution_count": 8
        }
      ],
      "source": [
        "A, B = np.array([[1, 2, -1], [8, -5, 2]]), np.array([1, 12])\n",
        "np.linalg.lstsq(A, B, rcond=None)"
      ]
    },
    {
      "cell_type": "markdown",
      "id": "86f6bb27",
      "metadata": {
        "id": "86f6bb27"
      },
      "source": [
        "найдём его же с помощью функции Q(x,y,z), это решение с минимальной нормой. Если нарисуем на графике точку, найденную с помощью linalg.lstsq(), то она попадёт аккуратно в самый низ параболы, о как"
      ]
    },
    {
      "cell_type": "code",
      "execution_count": 9,
      "id": "a26c6e91",
      "metadata": {
        "colab": {
          "base_uri": "https://localhost:8080/",
          "height": 470
        },
        "id": "a26c6e91",
        "outputId": "54d979e0-8b00-4017-aed1-6fc7e9da48c1"
      },
      "outputs": [
        {
          "output_type": "display_data",
          "data": {
            "text/plain": [
              "<Figure size 1000x500 with 1 Axes>"
            ],
            "image/svg+xml": "<?xml version=\"1.0\" encoding=\"utf-8\" standalone=\"no\"?>\n<!DOCTYPE svg PUBLIC \"-//W3C//DTD SVG 1.1//EN\"\n  \"http://www.w3.org/Graphics/SVG/1.1/DTD/svg11.dtd\">\n<svg xmlns:xlink=\"http://www.w3.org/1999/xlink\" width=\"606.439062pt\" height=\"336.833625pt\" viewBox=\"0 0 606.439062 336.833625\" xmlns=\"http://www.w3.org/2000/svg\" version=\"1.1\">\n <metadata>\n  <rdf:RDF xmlns:dc=\"http://purl.org/dc/elements/1.1/\" xmlns:cc=\"http://creativecommons.org/ns#\" xmlns:rdf=\"http://www.w3.org/1999/02/22-rdf-syntax-ns#\">\n   <cc:Work>\n    <dc:type rdf:resource=\"http://purl.org/dc/dcmitype/StillImage\"/>\n    <dc:date>2023-10-28T10:38:51.999086</dc:date>\n    <dc:format>image/svg+xml</dc:format>\n    <dc:creator>\n     <cc:Agent>\n      <dc:title>Matplotlib v3.7.1, https://matplotlib.org/</dc:title>\n     </cc:Agent>\n    </dc:creator>\n   </cc:Work>\n  </rdf:RDF>\n </metadata>\n <defs>\n  <style type=\"text/css\">*{stroke-linejoin: round; stroke-linecap: butt}</style>\n </defs>\n <g id=\"figure_1\">\n  <g id=\"patch_1\">\n   <path d=\"M 0 336.833625 \nL 606.439063 336.833625 \nL 606.439063 0 \nL 0 0 \nz\n\" style=\"fill: #ffffff\"/>\n  </g>\n  <g id=\"axes_1\">\n   <g id=\"patch_2\">\n    <path d=\"M 33.2875 312.9555 \nL 591.2875 312.9555 \nL 591.2875 35.7555 \nL 33.2875 35.7555 \nz\n\" style=\"fill: #ffffff\"/>\n   </g>\n   <g id=\"PathCollection_1\">\n    <defs>\n     <path id=\"mdfa230cd3a\" d=\"M 0 3 \nC 0.795609 3 1.55874 2.683901 2.12132 2.12132 \nC 2.683901 1.55874 3 0.795609 3 0 \nC 3 -0.795609 2.683901 -1.55874 2.12132 -2.12132 \nC 1.55874 -2.683901 0.795609 -3 0 -3 \nC -0.795609 -3 -1.55874 -2.683901 -2.12132 -2.12132 \nC -2.683901 -1.55874 -3 -0.795609 -3 0 \nC -3 0.795609 -2.683901 1.55874 -2.12132 2.12132 \nC -1.55874 2.683901 -0.795609 3 0 3 \nz\n\" style=\"stroke: #5e03fc\"/>\n    </defs>\n    <g clip-path=\"url(#pcb7082668f)\">\n     <use xlink:href=\"#mdfa230cd3a\" x=\"361.361301\" y=\"279.133224\" style=\"fill: #5e03fc; stroke: #5e03fc\"/>\n    </g>\n   </g>\n   <g id=\"matplotlib.axis_1\">\n    <g id=\"xtick_1\">\n     <g id=\"line2d_1\">\n      <path d=\"M 70.4875 312.9555 \nL 70.4875 35.7555 \n\" clip-path=\"url(#pcb7082668f)\" style=\"fill: none; stroke: #b0b0b0; stroke-width: 0.8; stroke-linecap: square\"/>\n     </g>\n     <g id=\"line2d_2\">\n      <defs>\n       <path id=\"m745802144f\" d=\"M 0 0 \nL 0 3.5 \n\" style=\"stroke: #000000; stroke-width: 0.8\"/>\n      </defs>\n      <g>\n       <use xlink:href=\"#m745802144f\" x=\"70.4875\" y=\"312.9555\" style=\"stroke: #000000; stroke-width: 0.8\"/>\n      </g>\n     </g>\n     <g id=\"text_1\">\n      <!-- 0.6 -->\n      <g transform=\"translate(62.535938 327.553938) scale(0.1 -0.1)\">\n       <defs>\n        <path id=\"DejaVuSans-30\" d=\"M 2034 4250 \nQ 1547 4250 1301 3770 \nQ 1056 3291 1056 2328 \nQ 1056 1369 1301 889 \nQ 1547 409 2034 409 \nQ 2525 409 2770 889 \nQ 3016 1369 3016 2328 \nQ 3016 3291 2770 3770 \nQ 2525 4250 2034 4250 \nz\nM 2034 4750 \nQ 2819 4750 3233 4129 \nQ 3647 3509 3647 2328 \nQ 3647 1150 3233 529 \nQ 2819 -91 2034 -91 \nQ 1250 -91 836 529 \nQ 422 1150 422 2328 \nQ 422 3509 836 4129 \nQ 1250 4750 2034 4750 \nz\n\" transform=\"scale(0.015625)\"/>\n        <path id=\"DejaVuSans-2e\" d=\"M 684 794 \nL 1344 794 \nL 1344 0 \nL 684 0 \nL 684 794 \nz\n\" transform=\"scale(0.015625)\"/>\n        <path id=\"DejaVuSans-36\" d=\"M 2113 2584 \nQ 1688 2584 1439 2293 \nQ 1191 2003 1191 1497 \nQ 1191 994 1439 701 \nQ 1688 409 2113 409 \nQ 2538 409 2786 701 \nQ 3034 994 3034 1497 \nQ 3034 2003 2786 2293 \nQ 2538 2584 2113 2584 \nz\nM 3366 4563 \nL 3366 3988 \nQ 3128 4100 2886 4159 \nQ 2644 4219 2406 4219 \nQ 1781 4219 1451 3797 \nQ 1122 3375 1075 2522 \nQ 1259 2794 1537 2939 \nQ 1816 3084 2150 3084 \nQ 2853 3084 3261 2657 \nQ 3669 2231 3669 1497 \nQ 3669 778 3244 343 \nQ 2819 -91 2113 -91 \nQ 1303 -91 875 529 \nQ 447 1150 447 2328 \nQ 447 3434 972 4092 \nQ 1497 4750 2381 4750 \nQ 2619 4750 2861 4703 \nQ 3103 4656 3366 4563 \nz\n\" transform=\"scale(0.015625)\"/>\n       </defs>\n       <use xlink:href=\"#DejaVuSans-30\"/>\n       <use xlink:href=\"#DejaVuSans-2e\" x=\"63.623047\"/>\n       <use xlink:href=\"#DejaVuSans-36\" x=\"95.410156\"/>\n      </g>\n     </g>\n    </g>\n    <g id=\"xtick_2\">\n     <g id=\"line2d_3\">\n      <path d=\"M 144.8875 312.9555 \nL 144.8875 35.7555 \n\" clip-path=\"url(#pcb7082668f)\" style=\"fill: none; stroke: #b0b0b0; stroke-width: 0.8; stroke-linecap: square\"/>\n     </g>\n     <g id=\"line2d_4\">\n      <g>\n       <use xlink:href=\"#m745802144f\" x=\"144.8875\" y=\"312.9555\" style=\"stroke: #000000; stroke-width: 0.8\"/>\n      </g>\n     </g>\n     <g id=\"text_2\">\n      <!-- 0.8 -->\n      <g transform=\"translate(136.935938 327.553938) scale(0.1 -0.1)\">\n       <defs>\n        <path id=\"DejaVuSans-38\" d=\"M 2034 2216 \nQ 1584 2216 1326 1975 \nQ 1069 1734 1069 1313 \nQ 1069 891 1326 650 \nQ 1584 409 2034 409 \nQ 2484 409 2743 651 \nQ 3003 894 3003 1313 \nQ 3003 1734 2745 1975 \nQ 2488 2216 2034 2216 \nz\nM 1403 2484 \nQ 997 2584 770 2862 \nQ 544 3141 544 3541 \nQ 544 4100 942 4425 \nQ 1341 4750 2034 4750 \nQ 2731 4750 3128 4425 \nQ 3525 4100 3525 3541 \nQ 3525 3141 3298 2862 \nQ 3072 2584 2669 2484 \nQ 3125 2378 3379 2068 \nQ 3634 1759 3634 1313 \nQ 3634 634 3220 271 \nQ 2806 -91 2034 -91 \nQ 1263 -91 848 271 \nQ 434 634 434 1313 \nQ 434 1759 690 2068 \nQ 947 2378 1403 2484 \nz\nM 1172 3481 \nQ 1172 3119 1398 2916 \nQ 1625 2713 2034 2713 \nQ 2441 2713 2670 2916 \nQ 2900 3119 2900 3481 \nQ 2900 3844 2670 4047 \nQ 2441 4250 2034 4250 \nQ 1625 4250 1398 4047 \nQ 1172 3844 1172 3481 \nz\n\" transform=\"scale(0.015625)\"/>\n       </defs>\n       <use xlink:href=\"#DejaVuSans-30\"/>\n       <use xlink:href=\"#DejaVuSans-2e\" x=\"63.623047\"/>\n       <use xlink:href=\"#DejaVuSans-38\" x=\"95.410156\"/>\n      </g>\n     </g>\n    </g>\n    <g id=\"xtick_3\">\n     <g id=\"line2d_5\">\n      <path d=\"M 219.2875 312.9555 \nL 219.2875 35.7555 \n\" clip-path=\"url(#pcb7082668f)\" style=\"fill: none; stroke: #b0b0b0; stroke-width: 0.8; stroke-linecap: square\"/>\n     </g>\n     <g id=\"line2d_6\">\n      <g>\n       <use xlink:href=\"#m745802144f\" x=\"219.2875\" y=\"312.9555\" style=\"stroke: #000000; stroke-width: 0.8\"/>\n      </g>\n     </g>\n     <g id=\"text_3\">\n      <!-- 1.0 -->\n      <g transform=\"translate(211.335938 327.553938) scale(0.1 -0.1)\">\n       <defs>\n        <path id=\"DejaVuSans-31\" d=\"M 794 531 \nL 1825 531 \nL 1825 4091 \nL 703 3866 \nL 703 4441 \nL 1819 4666 \nL 2450 4666 \nL 2450 531 \nL 3481 531 \nL 3481 0 \nL 794 0 \nL 794 531 \nz\n\" transform=\"scale(0.015625)\"/>\n       </defs>\n       <use xlink:href=\"#DejaVuSans-31\"/>\n       <use xlink:href=\"#DejaVuSans-2e\" x=\"63.623047\"/>\n       <use xlink:href=\"#DejaVuSans-30\" x=\"95.410156\"/>\n      </g>\n     </g>\n    </g>\n    <g id=\"xtick_4\">\n     <g id=\"line2d_7\">\n      <path d=\"M 293.6875 312.9555 \nL 293.6875 35.7555 \n\" clip-path=\"url(#pcb7082668f)\" style=\"fill: none; stroke: #b0b0b0; stroke-width: 0.8; stroke-linecap: square\"/>\n     </g>\n     <g id=\"line2d_8\">\n      <g>\n       <use xlink:href=\"#m745802144f\" x=\"293.6875\" y=\"312.9555\" style=\"stroke: #000000; stroke-width: 0.8\"/>\n      </g>\n     </g>\n     <g id=\"text_4\">\n      <!-- 1.2 -->\n      <g transform=\"translate(285.735938 327.553938) scale(0.1 -0.1)\">\n       <defs>\n        <path id=\"DejaVuSans-32\" d=\"M 1228 531 \nL 3431 531 \nL 3431 0 \nL 469 0 \nL 469 531 \nQ 828 903 1448 1529 \nQ 2069 2156 2228 2338 \nQ 2531 2678 2651 2914 \nQ 2772 3150 2772 3378 \nQ 2772 3750 2511 3984 \nQ 2250 4219 1831 4219 \nQ 1534 4219 1204 4116 \nQ 875 4013 500 3803 \nL 500 4441 \nQ 881 4594 1212 4672 \nQ 1544 4750 1819 4750 \nQ 2544 4750 2975 4387 \nQ 3406 4025 3406 3419 \nQ 3406 3131 3298 2873 \nQ 3191 2616 2906 2266 \nQ 2828 2175 2409 1742 \nQ 1991 1309 1228 531 \nz\n\" transform=\"scale(0.015625)\"/>\n       </defs>\n       <use xlink:href=\"#DejaVuSans-31\"/>\n       <use xlink:href=\"#DejaVuSans-2e\" x=\"63.623047\"/>\n       <use xlink:href=\"#DejaVuSans-32\" x=\"95.410156\"/>\n      </g>\n     </g>\n    </g>\n    <g id=\"xtick_5\">\n     <g id=\"line2d_9\">\n      <path d=\"M 368.0875 312.9555 \nL 368.0875 35.7555 \n\" clip-path=\"url(#pcb7082668f)\" style=\"fill: none; stroke: #b0b0b0; stroke-width: 0.8; stroke-linecap: square\"/>\n     </g>\n     <g id=\"line2d_10\">\n      <g>\n       <use xlink:href=\"#m745802144f\" x=\"368.0875\" y=\"312.9555\" style=\"stroke: #000000; stroke-width: 0.8\"/>\n      </g>\n     </g>\n     <g id=\"text_5\">\n      <!-- 1.4 -->\n      <g transform=\"translate(360.135937 327.553938) scale(0.1 -0.1)\">\n       <defs>\n        <path id=\"DejaVuSans-34\" d=\"M 2419 4116 \nL 825 1625 \nL 2419 1625 \nL 2419 4116 \nz\nM 2253 4666 \nL 3047 4666 \nL 3047 1625 \nL 3713 1625 \nL 3713 1100 \nL 3047 1100 \nL 3047 0 \nL 2419 0 \nL 2419 1100 \nL 313 1100 \nL 313 1709 \nL 2253 4666 \nz\n\" transform=\"scale(0.015625)\"/>\n       </defs>\n       <use xlink:href=\"#DejaVuSans-31\"/>\n       <use xlink:href=\"#DejaVuSans-2e\" x=\"63.623047\"/>\n       <use xlink:href=\"#DejaVuSans-34\" x=\"95.410156\"/>\n      </g>\n     </g>\n    </g>\n    <g id=\"xtick_6\">\n     <g id=\"line2d_11\">\n      <path d=\"M 442.4875 312.9555 \nL 442.4875 35.7555 \n\" clip-path=\"url(#pcb7082668f)\" style=\"fill: none; stroke: #b0b0b0; stroke-width: 0.8; stroke-linecap: square\"/>\n     </g>\n     <g id=\"line2d_12\">\n      <g>\n       <use xlink:href=\"#m745802144f\" x=\"442.4875\" y=\"312.9555\" style=\"stroke: #000000; stroke-width: 0.8\"/>\n      </g>\n     </g>\n     <g id=\"text_6\">\n      <!-- 1.6 -->\n      <g transform=\"translate(434.535938 327.553938) scale(0.1 -0.1)\">\n       <use xlink:href=\"#DejaVuSans-31\"/>\n       <use xlink:href=\"#DejaVuSans-2e\" x=\"63.623047\"/>\n       <use xlink:href=\"#DejaVuSans-36\" x=\"95.410156\"/>\n      </g>\n     </g>\n    </g>\n    <g id=\"xtick_7\">\n     <g id=\"line2d_13\">\n      <path d=\"M 516.8875 312.9555 \nL 516.8875 35.7555 \n\" clip-path=\"url(#pcb7082668f)\" style=\"fill: none; stroke: #b0b0b0; stroke-width: 0.8; stroke-linecap: square\"/>\n     </g>\n     <g id=\"line2d_14\">\n      <g>\n       <use xlink:href=\"#m745802144f\" x=\"516.8875\" y=\"312.9555\" style=\"stroke: #000000; stroke-width: 0.8\"/>\n      </g>\n     </g>\n     <g id=\"text_7\">\n      <!-- 1.8 -->\n      <g transform=\"translate(508.935938 327.553938) scale(0.1 -0.1)\">\n       <use xlink:href=\"#DejaVuSans-31\"/>\n       <use xlink:href=\"#DejaVuSans-2e\" x=\"63.623047\"/>\n       <use xlink:href=\"#DejaVuSans-38\" x=\"95.410156\"/>\n      </g>\n     </g>\n    </g>\n    <g id=\"xtick_8\">\n     <g id=\"line2d_15\">\n      <path d=\"M 591.2875 312.9555 \nL 591.2875 35.7555 \n\" clip-path=\"url(#pcb7082668f)\" style=\"fill: none; stroke: #b0b0b0; stroke-width: 0.8; stroke-linecap: square\"/>\n     </g>\n     <g id=\"line2d_16\">\n      <g>\n       <use xlink:href=\"#m745802144f\" x=\"591.2875\" y=\"312.9555\" style=\"stroke: #000000; stroke-width: 0.8\"/>\n      </g>\n     </g>\n     <g id=\"text_8\">\n      <!-- 2.0 -->\n      <g transform=\"translate(583.335938 327.553938) scale(0.1 -0.1)\">\n       <use xlink:href=\"#DejaVuSans-32\"/>\n       <use xlink:href=\"#DejaVuSans-2e\" x=\"63.623047\"/>\n       <use xlink:href=\"#DejaVuSans-30\" x=\"95.410156\"/>\n      </g>\n     </g>\n    </g>\n   </g>\n   <g id=\"matplotlib.axis_2\">\n    <g id=\"ytick_1\">\n     <g id=\"line2d_17\">\n      <path d=\"M 33.2875 278.913395 \nL 591.2875 278.913395 \n\" clip-path=\"url(#pcb7082668f)\" style=\"fill: none; stroke: #b0b0b0; stroke-width: 0.8; stroke-linecap: square\"/>\n     </g>\n     <g id=\"line2d_18\">\n      <defs>\n       <path id=\"m958d39c68e\" d=\"M 0 0 \nL -3.5 0 \n\" style=\"stroke: #000000; stroke-width: 0.8\"/>\n      </defs>\n      <g>\n       <use xlink:href=\"#m958d39c68e\" x=\"33.2875\" y=\"278.913395\" style=\"stroke: #000000; stroke-width: 0.8\"/>\n      </g>\n     </g>\n     <g id=\"text_9\">\n      <!-- 0 -->\n      <g transform=\"translate(19.925 282.712613) scale(0.1 -0.1)\">\n       <use xlink:href=\"#DejaVuSans-30\"/>\n      </g>\n     </g>\n    </g>\n    <g id=\"ytick_2\">\n     <g id=\"line2d_19\">\n      <path d=\"M 33.2875 218.123921 \nL 591.2875 218.123921 \n\" clip-path=\"url(#pcb7082668f)\" style=\"fill: none; stroke: #b0b0b0; stroke-width: 0.8; stroke-linecap: square\"/>\n     </g>\n     <g id=\"line2d_20\">\n      <g>\n       <use xlink:href=\"#m958d39c68e\" x=\"33.2875\" y=\"218.123921\" style=\"stroke: #000000; stroke-width: 0.8\"/>\n      </g>\n     </g>\n     <g id=\"text_10\">\n      <!-- 50 -->\n      <g transform=\"translate(13.5625 221.92314) scale(0.1 -0.1)\">\n       <defs>\n        <path id=\"DejaVuSans-35\" d=\"M 691 4666 \nL 3169 4666 \nL 3169 4134 \nL 1269 4134 \nL 1269 2991 \nQ 1406 3038 1543 3061 \nQ 1681 3084 1819 3084 \nQ 2600 3084 3056 2656 \nQ 3513 2228 3513 1497 \nQ 3513 744 3044 326 \nQ 2575 -91 1722 -91 \nQ 1428 -91 1123 -41 \nQ 819 9 494 109 \nL 494 744 \nQ 775 591 1075 516 \nQ 1375 441 1709 441 \nQ 2250 441 2565 725 \nQ 2881 1009 2881 1497 \nQ 2881 1984 2565 2268 \nQ 2250 2553 1709 2553 \nQ 1456 2553 1204 2497 \nQ 953 2441 691 2322 \nL 691 4666 \nz\n\" transform=\"scale(0.015625)\"/>\n       </defs>\n       <use xlink:href=\"#DejaVuSans-35\"/>\n       <use xlink:href=\"#DejaVuSans-30\" x=\"63.623047\"/>\n      </g>\n     </g>\n    </g>\n    <g id=\"ytick_3\">\n     <g id=\"line2d_21\">\n      <path d=\"M 33.2875 157.334447 \nL 591.2875 157.334447 \n\" clip-path=\"url(#pcb7082668f)\" style=\"fill: none; stroke: #b0b0b0; stroke-width: 0.8; stroke-linecap: square\"/>\n     </g>\n     <g id=\"line2d_22\">\n      <g>\n       <use xlink:href=\"#m958d39c68e\" x=\"33.2875\" y=\"157.334447\" style=\"stroke: #000000; stroke-width: 0.8\"/>\n      </g>\n     </g>\n     <g id=\"text_11\">\n      <!-- 100 -->\n      <g transform=\"translate(7.2 161.133666) scale(0.1 -0.1)\">\n       <use xlink:href=\"#DejaVuSans-31\"/>\n       <use xlink:href=\"#DejaVuSans-30\" x=\"63.623047\"/>\n       <use xlink:href=\"#DejaVuSans-30\" x=\"127.246094\"/>\n      </g>\n     </g>\n    </g>\n    <g id=\"ytick_4\">\n     <g id=\"line2d_23\">\n      <path d=\"M 33.2875 96.544974 \nL 591.2875 96.544974 \n\" clip-path=\"url(#pcb7082668f)\" style=\"fill: none; stroke: #b0b0b0; stroke-width: 0.8; stroke-linecap: square\"/>\n     </g>\n     <g id=\"line2d_24\">\n      <g>\n       <use xlink:href=\"#m958d39c68e\" x=\"33.2875\" y=\"96.544974\" style=\"stroke: #000000; stroke-width: 0.8\"/>\n      </g>\n     </g>\n     <g id=\"text_12\">\n      <!-- 150 -->\n      <g transform=\"translate(7.2 100.344192) scale(0.1 -0.1)\">\n       <use xlink:href=\"#DejaVuSans-31\"/>\n       <use xlink:href=\"#DejaVuSans-35\" x=\"63.623047\"/>\n       <use xlink:href=\"#DejaVuSans-30\" x=\"127.246094\"/>\n      </g>\n     </g>\n    </g>\n    <g id=\"ytick_5\">\n     <g id=\"line2d_25\">\n      <path d=\"M 33.2875 35.7555 \nL 591.2875 35.7555 \n\" clip-path=\"url(#pcb7082668f)\" style=\"fill: none; stroke: #b0b0b0; stroke-width: 0.8; stroke-linecap: square\"/>\n     </g>\n     <g id=\"line2d_26\">\n      <g>\n       <use xlink:href=\"#m958d39c68e\" x=\"33.2875\" y=\"35.7555\" style=\"stroke: #000000; stroke-width: 0.8\"/>\n      </g>\n     </g>\n     <g id=\"text_13\">\n      <!-- 200 -->\n      <g transform=\"translate(7.2 39.554719) scale(0.1 -0.1)\">\n       <use xlink:href=\"#DejaVuSans-32\"/>\n       <use xlink:href=\"#DejaVuSans-30\" x=\"63.623047\"/>\n       <use xlink:href=\"#DejaVuSans-30\" x=\"127.246094\"/>\n      </g>\n     </g>\n    </g>\n   </g>\n   <g id=\"line2d_27\">\n    <path d=\"M 119.94968 -1 \nL 122.08147 3.91487 \nL 127.68951 16.544761 \nL 133.29755 28.875134 \nL 138.90559 40.905988 \nL 144.513631 52.637324 \nL 150.121671 64.06914 \nL 155.729711 75.201438 \nL 161.337751 86.034217 \nL 166.945791 96.567478 \nL 172.553832 106.801219 \nL 178.161872 116.735442 \nL 183.769912 126.370146 \nL 189.377952 135.705331 \nL 194.985992 144.740998 \nL 200.594033 153.477146 \nL 206.202073 161.913775 \nL 211.810113 170.050885 \nL 217.418153 177.888477 \nL 223.026193 185.426549 \nL 228.634234 192.665103 \nL 234.242274 199.604139 \nL 239.850314 206.243655 \nL 245.458354 212.583653 \nL 251.066394 218.624132 \nL 256.674435 224.365092 \nL 262.282475 229.806534 \nL 267.890515 234.948457 \nL 273.498555 239.790861 \nL 279.106595 244.333746 \nL 284.714636 248.577113 \nL 290.322676 252.52096 \nL 295.930716 256.165289 \nL 301.538756 259.5101 \nL 307.146796 262.555391 \nL 312.754837 265.301164 \nL 318.362877 267.747418 \nL 323.970917 269.894153 \nL 329.578957 271.74137 \nL 335.186997 273.289067 \nL 340.795038 274.537246 \nL 346.403078 275.485907 \nL 352.011118 276.135048 \nL 357.619158 276.484671 \nL 363.227198 276.534775 \nL 368.835239 276.28536 \nL 374.443279 275.736427 \nL 380.051319 274.887974 \nL 385.659359 273.740003 \nL 391.267399 272.292514 \nL 396.87544 270.545505 \nL 402.48348 268.498978 \nL 408.09152 266.152932 \nL 413.69956 263.507367 \nL 419.307601 260.562284 \nL 424.915641 257.317681 \nL 430.523681 253.77356 \nL 436.131721 249.929921 \nL 441.739761 245.786762 \nL 447.347802 241.344085 \nL 452.955842 236.601889 \nL 458.563882 231.560174 \nL 464.171922 226.21894 \nL 469.779962 220.578188 \nL 475.388003 214.637917 \nL 480.996043 208.398127 \nL 486.604083 201.858819 \nL 492.212123 195.019991 \nL 497.820163 187.881645 \nL 503.428204 180.44378 \nL 509.036244 172.706397 \nL 514.644284 164.669495 \nL 520.252324 156.333074 \nL 525.860364 147.697134 \nL 531.468405 138.761675 \nL 537.076445 129.526698 \nL 542.684485 119.992202 \nL 548.292525 110.158187 \nL 553.900565 100.024653 \nL 559.508606 89.591601 \nL 565.116646 78.85903 \nL 570.724686 67.82694 \nL 576.332726 56.495332 \nL 581.940766 44.864204 \nL 587.548807 32.933558 \nL 593.156847 20.703393 \nL 602.774998 -1 \nL 602.774998 -1 \n\" clip-path=\"url(#pcb7082668f)\" style=\"fill: none; stroke-dasharray: 1.5,2.475; stroke-dashoffset: 0; stroke: #ff0000; stroke-width: 1.5\"/>\n   </g>\n   <g id=\"patch_3\">\n    <path d=\"M 33.2875 312.9555 \nL 33.2875 35.7555 \n\" style=\"fill: none; stroke: #000000; stroke-width: 0.8; stroke-linejoin: miter; stroke-linecap: square\"/>\n   </g>\n   <g id=\"patch_4\">\n    <path d=\"M 591.2875 312.9555 \nL 591.2875 35.7555 \n\" style=\"fill: none; stroke: #000000; stroke-width: 0.8; stroke-linejoin: miter; stroke-linecap: square\"/>\n   </g>\n   <g id=\"patch_5\">\n    <path d=\"M 33.2875 312.9555 \nL 591.2875 312.9555 \n\" style=\"fill: none; stroke: #000000; stroke-width: 0.8; stroke-linejoin: miter; stroke-linecap: square\"/>\n   </g>\n   <g id=\"patch_6\">\n    <path d=\"M 33.2875 35.7555 \nL 591.2875 35.7555 \n\" style=\"fill: none; stroke: #000000; stroke-width: 0.8; stroke-linejoin: miter; stroke-linecap: square\"/>\n   </g>\n   <g id=\"text_14\">\n    <!-- график функции функции Q(x,y,z), распределяющий норму решения  -->\n    <g transform=\"translate(90.461875 16.318125) scale(0.12 -0.12)\">\n     <defs>\n      <path id=\"DejaVuSans-433\" d=\"M 581 0 \nL 581 3500 \nL 3050 3500 \nL 3050 3041 \nL 1159 3041 \nL 1159 0 \nL 581 0 \nz\n\" transform=\"scale(0.015625)\"/>\n      <path id=\"DejaVuSans-440\" d=\"M 1159 525 \nL 1159 -1331 \nL 581 -1331 \nL 581 3500 \nL 1159 3500 \nL 1159 2969 \nQ 1341 3281 1617 3432 \nQ 1894 3584 2278 3584 \nQ 2916 3584 3314 3078 \nQ 3713 2572 3713 1747 \nQ 3713 922 3314 415 \nQ 2916 -91 2278 -91 \nQ 1894 -91 1617 61 \nQ 1341 213 1159 525 \nz\nM 3116 1747 \nQ 3116 2381 2855 2742 \nQ 2594 3103 2138 3103 \nQ 1681 3103 1420 2742 \nQ 1159 2381 1159 1747 \nQ 1159 1113 1420 752 \nQ 1681 391 2138 391 \nQ 2594 391 2855 752 \nQ 3116 1113 3116 1747 \nz\n\" transform=\"scale(0.015625)\"/>\n      <path id=\"DejaVuSans-430\" d=\"M 2194 1759 \nQ 1497 1759 1228 1600 \nQ 959 1441 959 1056 \nQ 959 750 1161 570 \nQ 1363 391 1709 391 \nQ 2188 391 2477 730 \nQ 2766 1069 2766 1631 \nL 2766 1759 \nL 2194 1759 \nz\nM 3341 1997 \nL 3341 0 \nL 2766 0 \nL 2766 531 \nQ 2569 213 2275 61 \nQ 1981 -91 1556 -91 \nQ 1019 -91 701 211 \nQ 384 513 384 1019 \nQ 384 1609 779 1909 \nQ 1175 2209 1959 2209 \nL 2766 2209 \nL 2766 2266 \nQ 2766 2663 2505 2880 \nQ 2244 3097 1772 3097 \nQ 1472 3097 1187 3025 \nQ 903 2953 641 2809 \nL 641 3341 \nQ 956 3463 1253 3523 \nQ 1550 3584 1831 3584 \nQ 2591 3584 2966 3190 \nQ 3341 2797 3341 1997 \nz\n\" transform=\"scale(0.015625)\"/>\n      <path id=\"DejaVuSans-444\" d=\"M 947 1747 \nQ 947 1013 1173 702 \nQ 1400 391 1784 391 \nQ 2091 391 2447 916 \nL 2447 2578 \nQ 2091 3103 1784 3103 \nQ 1400 3103 1173 2792 \nQ 947 2481 947 1747 \nz\nM 2447 -1331 \nL 2447 447 \nQ 2269 153 2064 31 \nQ 1859 -91 1600 -91 \nQ 1078 -91 714 392 \nQ 350 875 350 1734 \nQ 350 2594 714 3089 \nQ 1078 3584 1600 3584 \nQ 1859 3584 2064 3465 \nQ 2269 3347 2447 3053 \nL 2447 4666 \nL 3025 4666 \nL 3025 3053 \nQ 3203 3347 3408 3465 \nQ 3613 3584 3872 3584 \nQ 4394 3584 4758 3089 \nQ 5122 2594 5122 1734 \nQ 5122 875 4758 392 \nQ 4394 -91 3872 -91 \nQ 3613 -91 3408 31 \nQ 3203 153 3025 447 \nL 3025 -1331 \nL 2447 -1331 \nz\nM 4525 1747 \nQ 4525 2481 4298 2792 \nQ 4072 3103 3688 3103 \nQ 3381 3103 3025 2578 \nL 3025 916 \nQ 3381 391 3688 391 \nQ 4072 391 4298 702 \nQ 4525 1013 4525 1747 \nz\n\" transform=\"scale(0.015625)\"/>\n      <path id=\"DejaVuSans-438\" d=\"M 3578 3500 \nL 3578 0 \nL 3006 0 \nL 3006 2809 \nL 1319 0 \nL 581 0 \nL 581 3500 \nL 1153 3500 \nL 1153 697 \nL 2838 3500 \nL 3578 3500 \nz\n\" transform=\"scale(0.015625)\"/>\n      <path id=\"DejaVuSans-43a\" d=\"M 581 3500 \nL 1153 3500 \nL 1153 1856 \nL 2775 3500 \nL 3481 3500 \nL 2144 2147 \nL 3653 0 \nL 3009 0 \nL 1769 1766 \nL 1153 1141 \nL 1153 0 \nL 581 0 \nL 581 3500 \nz\n\" transform=\"scale(0.015625)\"/>\n      <path id=\"DejaVuSans-20\" transform=\"scale(0.015625)\"/>\n      <path id=\"DejaVuSans-443\" d=\"M 2059 -325 \nQ 1816 -950 1584 -1140 \nQ 1353 -1331 966 -1331 \nL 506 -1331 \nL 506 -850 \nL 844 -850 \nQ 1081 -850 1212 -737 \nQ 1344 -625 1503 -206 \nL 1606 56 \nL 191 3500 \nL 800 3500 \nL 1894 763 \nL 2988 3500 \nL 3597 3500 \nL 2059 -325 \nz\n\" transform=\"scale(0.015625)\"/>\n      <path id=\"DejaVuSans-43d\" d=\"M 581 3500 \nL 1159 3500 \nL 1159 2072 \nL 3025 2072 \nL 3025 3500 \nL 3603 3500 \nL 3603 0 \nL 3025 0 \nL 3025 1613 \nL 1159 1613 \nL 1159 0 \nL 581 0 \nL 581 3500 \nz\n\" transform=\"scale(0.015625)\"/>\n      <path id=\"DejaVuSans-446\" d=\"M 3603 0 \nL 581 0 \nL 581 3500 \nL 1159 3500 \nL 1159 459 \nL 3025 459 \nL 3025 3500 \nL 3603 3500 \nL 3603 459 \nL 4063 459 \nL 4063 -884 \nL 3603 -884 \nL 3603 0 \nz\n\" transform=\"scale(0.015625)\"/>\n      <path id=\"DejaVuSans-51\" d=\"M 2522 4238 \nQ 1834 4238 1429 3725 \nQ 1025 3213 1025 2328 \nQ 1025 1447 1429 934 \nQ 1834 422 2522 422 \nQ 3209 422 3611 934 \nQ 4013 1447 4013 2328 \nQ 4013 3213 3611 3725 \nQ 3209 4238 2522 4238 \nz\nM 3406 84 \nL 4238 -825 \nL 3475 -825 \nL 2784 -78 \nQ 2681 -84 2626 -87 \nQ 2572 -91 2522 -91 \nQ 1538 -91 948 567 \nQ 359 1225 359 2328 \nQ 359 3434 948 4092 \nQ 1538 4750 2522 4750 \nQ 3503 4750 4090 4092 \nQ 4678 3434 4678 2328 \nQ 4678 1516 4351 937 \nQ 4025 359 3406 84 \nz\n\" transform=\"scale(0.015625)\"/>\n      <path id=\"DejaVuSans-28\" d=\"M 1984 4856 \nQ 1566 4138 1362 3434 \nQ 1159 2731 1159 2009 \nQ 1159 1288 1364 580 \nQ 1569 -128 1984 -844 \nL 1484 -844 \nQ 1016 -109 783 600 \nQ 550 1309 550 2009 \nQ 550 2706 781 3412 \nQ 1013 4119 1484 4856 \nL 1984 4856 \nz\n\" transform=\"scale(0.015625)\"/>\n      <path id=\"DejaVuSans-78\" d=\"M 3513 3500 \nL 2247 1797 \nL 3578 0 \nL 2900 0 \nL 1881 1375 \nL 863 0 \nL 184 0 \nL 1544 1831 \nL 300 3500 \nL 978 3500 \nL 1906 2253 \nL 2834 3500 \nL 3513 3500 \nz\n\" transform=\"scale(0.015625)\"/>\n      <path id=\"DejaVuSans-2c\" d=\"M 750 794 \nL 1409 794 \nL 1409 256 \nL 897 -744 \nL 494 -744 \nL 750 256 \nL 750 794 \nz\n\" transform=\"scale(0.015625)\"/>\n      <path id=\"DejaVuSans-79\" d=\"M 2059 -325 \nQ 1816 -950 1584 -1140 \nQ 1353 -1331 966 -1331 \nL 506 -1331 \nL 506 -850 \nL 844 -850 \nQ 1081 -850 1212 -737 \nQ 1344 -625 1503 -206 \nL 1606 56 \nL 191 3500 \nL 800 3500 \nL 1894 763 \nL 2988 3500 \nL 3597 3500 \nL 2059 -325 \nz\n\" transform=\"scale(0.015625)\"/>\n      <path id=\"DejaVuSans-7a\" d=\"M 353 3500 \nL 3084 3500 \nL 3084 2975 \nL 922 459 \nL 3084 459 \nL 3084 0 \nL 275 0 \nL 275 525 \nL 2438 3041 \nL 353 3041 \nL 353 3500 \nz\n\" transform=\"scale(0.015625)\"/>\n      <path id=\"DejaVuSans-29\" d=\"M 513 4856 \nL 1013 4856 \nQ 1481 4119 1714 3412 \nQ 1947 2706 1947 2009 \nQ 1947 1309 1714 600 \nQ 1481 -109 1013 -844 \nL 513 -844 \nQ 928 -128 1133 580 \nQ 1338 1288 1338 2009 \nQ 1338 2731 1133 3434 \nQ 928 4138 513 4856 \nz\n\" transform=\"scale(0.015625)\"/>\n      <path id=\"DejaVuSans-441\" d=\"M 3122 3366 \nL 3122 2828 \nQ 2878 2963 2633 3030 \nQ 2388 3097 2138 3097 \nQ 1578 3097 1268 2742 \nQ 959 2388 959 1747 \nQ 959 1106 1268 751 \nQ 1578 397 2138 397 \nQ 2388 397 2633 464 \nQ 2878 531 3122 666 \nL 3122 134 \nQ 2881 22 2623 -34 \nQ 2366 -91 2075 -91 \nQ 1284 -91 818 406 \nQ 353 903 353 1747 \nQ 353 2603 823 3093 \nQ 1294 3584 2113 3584 \nQ 2378 3584 2631 3529 \nQ 2884 3475 3122 3366 \nz\n\" transform=\"scale(0.015625)\"/>\n      <path id=\"DejaVuSans-43f\" d=\"M 3603 3500 \nL 3603 0 \nL 3025 0 \nL 3025 3041 \nL 1159 3041 \nL 1159 0 \nL 581 0 \nL 581 3500 \nL 3603 3500 \nz\n\" transform=\"scale(0.015625)\"/>\n      <path id=\"DejaVuSans-435\" d=\"M 3597 1894 \nL 3597 1613 \nL 953 1613 \nQ 991 1019 1311 708 \nQ 1631 397 2203 397 \nQ 2534 397 2845 478 \nQ 3156 559 3463 722 \nL 3463 178 \nQ 3153 47 2828 -22 \nQ 2503 -91 2169 -91 \nQ 1331 -91 842 396 \nQ 353 884 353 1716 \nQ 353 2575 817 3079 \nQ 1281 3584 2069 3584 \nQ 2775 3584 3186 3129 \nQ 3597 2675 3597 1894 \nz\nM 3022 2063 \nQ 3016 2534 2758 2815 \nQ 2500 3097 2075 3097 \nQ 1594 3097 1305 2825 \nQ 1016 2553 972 2059 \nL 3022 2063 \nz\n\" transform=\"scale(0.015625)\"/>\n      <path id=\"DejaVuSans-434\" d=\"M 1384 459 \nL 3053 459 \nL 3053 3041 \nL 1844 3041 \nL 1844 2603 \nQ 1844 1316 1475 628 \nL 1384 459 \nz\nM 550 459 \nQ 834 584 959 850 \nQ 1266 1509 1266 2838 \nL 1266 3500 \nL 3631 3500 \nL 3631 459 \nL 4091 459 \nL 4091 -884 \nL 3631 -884 \nL 3631 0 \nL 794 0 \nL 794 -884 \nL 334 -884 \nL 334 459 \nL 550 459 \nz\n\" transform=\"scale(0.015625)\"/>\n      <path id=\"DejaVuSans-43b\" d=\"M 238 0 \nL 238 478 \nQ 806 566 981 959 \nQ 1194 1513 1194 2928 \nL 1194 3500 \nL 3559 3500 \nL 3559 0 \nL 2984 0 \nL 2984 3041 \nL 1769 3041 \nL 1769 2694 \nQ 1769 1344 1494 738 \nQ 1200 91 238 0 \nz\n\" transform=\"scale(0.015625)\"/>\n      <path id=\"DejaVuSans-44f\" d=\"M 1181 2491 \nQ 1181 2231 1381 2084 \nQ 1581 1938 1953 1938 \nL 2728 1938 \nL 2728 3041 \nL 1953 3041 \nQ 1581 3041 1381 2897 \nQ 1181 2753 1181 2491 \nz\nM 363 0 \nL 1431 1534 \nQ 1069 1616 828 1830 \nQ 588 2044 588 2491 \nQ 588 2997 923 3248 \nQ 1259 3500 1938 3500 \nL 3306 3500 \nL 3306 0 \nL 2728 0 \nL 2728 1478 \nL 2013 1478 \nL 981 0 \nL 363 0 \nz\n\" transform=\"scale(0.015625)\"/>\n      <path id=\"DejaVuSans-44e\" d=\"M 3431 3097 \nQ 2969 3097 2700 2736 \nQ 2431 2375 2431 1747 \nQ 2431 1119 2698 758 \nQ 2966 397 3431 397 \nQ 3891 397 4159 759 \nQ 4428 1122 4428 1747 \nQ 4428 2369 4159 2733 \nQ 3891 3097 3431 3097 \nz\nM 1844 2103 \nQ 1903 2697 2292 3140 \nQ 2681 3584 3431 3584 \nQ 4181 3584 4609 3096 \nQ 5038 2609 5038 1747 \nQ 5038 888 4609 398 \nQ 4181 -91 3431 -91 \nQ 2678 -91 2267 381 \nQ 1856 853 1828 1628 \nL 1178 1628 \nL 1178 0 \nL 603 0 \nL 603 3500 \nL 1178 3500 \nL 1178 2103 \nL 1844 2103 \nz\n\" transform=\"scale(0.015625)\"/>\n      <path id=\"DejaVuSans-449\" d=\"M 5275 0 \nL 581 0 \nL 581 3500 \nL 1159 3500 \nL 1159 459 \nL 2638 459 \nL 2638 3500 \nL 3216 3500 \nL 3216 459 \nL 4697 459 \nL 4697 3500 \nL 5275 3500 \nL 5275 459 \nL 5734 459 \nL 5734 -884 \nL 5275 -884 \nL 5275 0 \nz\n\" transform=\"scale(0.015625)\"/>\n      <path id=\"DejaVuSans-439\" d=\"M 3578 3500 \nL 3578 0 \nL 3006 0 \nL 3006 2809 \nL 1319 0 \nL 581 0 \nL 581 3500 \nL 1153 3500 \nL 1153 697 \nL 2838 3500 \nL 3578 3500 \nz\nM 1102 4833 \nL 1471 4833 \nQ 1505 4599 1656 4481 \nQ 1808 4364 2080 4364 \nQ 2349 4364 2499 4480 \nQ 2649 4596 2689 4833 \nL 3058 4833 \nQ 3027 4386 2780 4161 \nQ 2533 3936 2080 3936 \nQ 1627 3936 1380 4161 \nQ 1133 4386 1102 4833 \nz\n\" transform=\"scale(0.015625)\"/>\n      <path id=\"DejaVuSans-43e\" d=\"M 1959 3097 \nQ 1497 3097 1228 2736 \nQ 959 2375 959 1747 \nQ 959 1119 1226 758 \nQ 1494 397 1959 397 \nQ 2419 397 2687 759 \nQ 2956 1122 2956 1747 \nQ 2956 2369 2687 2733 \nQ 2419 3097 1959 3097 \nz\nM 1959 3584 \nQ 2709 3584 3137 3096 \nQ 3566 2609 3566 1747 \nQ 3566 888 3137 398 \nQ 2709 -91 1959 -91 \nQ 1206 -91 779 398 \nQ 353 888 353 1747 \nQ 353 2609 779 3096 \nQ 1206 3584 1959 3584 \nz\n\" transform=\"scale(0.015625)\"/>\n      <path id=\"DejaVuSans-43c\" d=\"M 581 3500 \nL 1422 3500 \nL 2416 1156 \nL 3413 3500 \nL 4247 3500 \nL 4247 0 \nL 3669 0 \nL 3669 2950 \nL 2703 672 \nL 2128 672 \nL 1159 2950 \nL 1159 0 \nL 581 0 \nL 581 3500 \nz\n\" transform=\"scale(0.015625)\"/>\n      <path id=\"DejaVuSans-448\" d=\"M 3216 459 \nL 4697 459 \nL 4697 3500 \nL 5275 3500 \nL 5275 0 \nL 581 0 \nL 581 3500 \nL 1159 3500 \nL 1159 459 \nL 2638 459 \nL 2638 3500 \nL 3216 3500 \nL 3216 459 \nz\n\" transform=\"scale(0.015625)\"/>\n     </defs>\n     <use xlink:href=\"#DejaVuSans-433\"/>\n     <use xlink:href=\"#DejaVuSans-440\" x=\"52.539062\"/>\n     <use xlink:href=\"#DejaVuSans-430\" x=\"116.015625\"/>\n     <use xlink:href=\"#DejaVuSans-444\" x=\"177.294922\"/>\n     <use xlink:href=\"#DejaVuSans-438\" x=\"262.792969\"/>\n     <use xlink:href=\"#DejaVuSans-43a\" x=\"327.783203\"/>\n     <use xlink:href=\"#DejaVuSans-20\" x=\"388.183594\"/>\n     <use xlink:href=\"#DejaVuSans-444\" x=\"419.970703\"/>\n     <use xlink:href=\"#DejaVuSans-443\" x=\"505.46875\"/>\n     <use xlink:href=\"#DejaVuSans-43d\" x=\"564.648438\"/>\n     <use xlink:href=\"#DejaVuSans-43a\" x=\"630.029297\"/>\n     <use xlink:href=\"#DejaVuSans-446\" x=\"690.429688\"/>\n     <use xlink:href=\"#DejaVuSans-438\" x=\"758.496094\"/>\n     <use xlink:href=\"#DejaVuSans-438\" x=\"823.486328\"/>\n     <use xlink:href=\"#DejaVuSans-20\" x=\"888.476562\"/>\n     <use xlink:href=\"#DejaVuSans-444\" x=\"920.263672\"/>\n     <use xlink:href=\"#DejaVuSans-443\" x=\"1005.761719\"/>\n     <use xlink:href=\"#DejaVuSans-43d\" x=\"1064.941406\"/>\n     <use xlink:href=\"#DejaVuSans-43a\" x=\"1130.322266\"/>\n     <use xlink:href=\"#DejaVuSans-446\" x=\"1190.722656\"/>\n     <use xlink:href=\"#DejaVuSans-438\" x=\"1258.789062\"/>\n     <use xlink:href=\"#DejaVuSans-438\" x=\"1323.779297\"/>\n     <use xlink:href=\"#DejaVuSans-20\" x=\"1388.769531\"/>\n     <use xlink:href=\"#DejaVuSans-51\" x=\"1420.556641\"/>\n     <use xlink:href=\"#DejaVuSans-28\" x=\"1499.267578\"/>\n     <use xlink:href=\"#DejaVuSans-78\" x=\"1538.28125\"/>\n     <use xlink:href=\"#DejaVuSans-2c\" x=\"1597.460938\"/>\n     <use xlink:href=\"#DejaVuSans-79\" x=\"1629.248047\"/>\n     <use xlink:href=\"#DejaVuSans-2c\" x=\"1688.427734\"/>\n     <use xlink:href=\"#DejaVuSans-7a\" x=\"1720.214844\"/>\n     <use xlink:href=\"#DejaVuSans-29\" x=\"1772.705078\"/>\n     <use xlink:href=\"#DejaVuSans-2c\" x=\"1811.71875\"/>\n     <use xlink:href=\"#DejaVuSans-20\" x=\"1843.505859\"/>\n     <use xlink:href=\"#DejaVuSans-440\" x=\"1875.292969\"/>\n     <use xlink:href=\"#DejaVuSans-430\" x=\"1938.769531\"/>\n     <use xlink:href=\"#DejaVuSans-441\" x=\"2000.048828\"/>\n     <use xlink:href=\"#DejaVuSans-43f\" x=\"2055.029297\"/>\n     <use xlink:href=\"#DejaVuSans-440\" x=\"2120.410156\"/>\n     <use xlink:href=\"#DejaVuSans-435\" x=\"2183.886719\"/>\n     <use xlink:href=\"#DejaVuSans-434\" x=\"2245.410156\"/>\n     <use xlink:href=\"#DejaVuSans-435\" x=\"2314.550781\"/>\n     <use xlink:href=\"#DejaVuSans-43b\" x=\"2376.074219\"/>\n     <use xlink:href=\"#DejaVuSans-44f\" x=\"2439.990234\"/>\n     <use xlink:href=\"#DejaVuSans-44e\" x=\"2500.146484\"/>\n     <use xlink:href=\"#DejaVuSans-449\" x=\"2584.326172\"/>\n     <use xlink:href=\"#DejaVuSans-438\" x=\"2678.515625\"/>\n     <use xlink:href=\"#DejaVuSans-439\" x=\"2743.505859\"/>\n     <use xlink:href=\"#DejaVuSans-20\" x=\"2808.496094\"/>\n     <use xlink:href=\"#DejaVuSans-43d\" x=\"2840.283203\"/>\n     <use xlink:href=\"#DejaVuSans-43e\" x=\"2905.664062\"/>\n     <use xlink:href=\"#DejaVuSans-440\" x=\"2966.845703\"/>\n     <use xlink:href=\"#DejaVuSans-43c\" x=\"3030.322266\"/>\n     <use xlink:href=\"#DejaVuSans-443\" x=\"3105.761719\"/>\n     <use xlink:href=\"#DejaVuSans-20\" x=\"3164.941406\"/>\n     <use xlink:href=\"#DejaVuSans-440\" x=\"3196.728516\"/>\n     <use xlink:href=\"#DejaVuSans-435\" x=\"3260.205078\"/>\n     <use xlink:href=\"#DejaVuSans-448\" x=\"3321.728516\"/>\n     <use xlink:href=\"#DejaVuSans-435\" x=\"3413.232422\"/>\n     <use xlink:href=\"#DejaVuSans-43d\" x=\"3474.755859\"/>\n     <use xlink:href=\"#DejaVuSans-438\" x=\"3540.136719\"/>\n     <use xlink:href=\"#DejaVuSans-44f\" x=\"3605.126953\"/>\n     <use xlink:href=\"#DejaVuSans-20\" x=\"3665.283203\"/>\n    </g>\n    <!-- и точка, найденная с помощью linalg.lstsq() -->\n    <g transform=\"translate(174.17875 29.7555) scale(0.12 -0.12)\">\n     <defs>\n      <path id=\"DejaVuSans-442\" d=\"M 188 3500 \nL 3541 3500 \nL 3541 3041 \nL 2147 3041 \nL 2147 0 \nL 1581 0 \nL 1581 3041 \nL 188 3041 \nL 188 3500 \nz\n\" transform=\"scale(0.015625)\"/>\n      <path id=\"DejaVuSans-447\" d=\"M 2625 0 \nL 2625 1472 \nL 1553 1472 \nQ 1075 1472 756 1769 \nQ 469 2038 469 2613 \nL 469 3500 \nL 1044 3500 \nL 1044 2666 \nQ 1044 2300 1206 2116 \nQ 1372 1931 1697 1931 \nL 2625 1931 \nL 2625 3500 \nL 3200 3500 \nL 3200 0 \nL 2625 0 \nz\n\" transform=\"scale(0.015625)\"/>\n      <path id=\"DejaVuSans-44c\" d=\"M 2781 1038 \nQ 2781 1319 2576 1466 \nQ 2372 1613 1978 1613 \nL 1159 1613 \nL 1159 459 \nL 1978 459 \nQ 2372 459 2576 607 \nQ 2781 756 2781 1038 \nz\nM 581 3500 \nL 1159 3500 \nL 1159 2072 \nL 2003 2072 \nQ 2672 2072 3033 1817 \nQ 3394 1563 3394 1038 \nQ 3394 513 3033 256 \nQ 2672 0 2003 0 \nL 581 0 \nL 581 3500 \nz\n\" transform=\"scale(0.015625)\"/>\n      <path id=\"DejaVuSans-6c\" d=\"M 603 4863 \nL 1178 4863 \nL 1178 0 \nL 603 0 \nL 603 4863 \nz\n\" transform=\"scale(0.015625)\"/>\n      <path id=\"DejaVuSans-69\" d=\"M 603 3500 \nL 1178 3500 \nL 1178 0 \nL 603 0 \nL 603 3500 \nz\nM 603 4863 \nL 1178 4863 \nL 1178 4134 \nL 603 4134 \nL 603 4863 \nz\n\" transform=\"scale(0.015625)\"/>\n      <path id=\"DejaVuSans-6e\" d=\"M 3513 2113 \nL 3513 0 \nL 2938 0 \nL 2938 2094 \nQ 2938 2591 2744 2837 \nQ 2550 3084 2163 3084 \nQ 1697 3084 1428 2787 \nQ 1159 2491 1159 1978 \nL 1159 0 \nL 581 0 \nL 581 3500 \nL 1159 3500 \nL 1159 2956 \nQ 1366 3272 1645 3428 \nQ 1925 3584 2291 3584 \nQ 2894 3584 3203 3211 \nQ 3513 2838 3513 2113 \nz\n\" transform=\"scale(0.015625)\"/>\n      <path id=\"DejaVuSans-61\" d=\"M 2194 1759 \nQ 1497 1759 1228 1600 \nQ 959 1441 959 1056 \nQ 959 750 1161 570 \nQ 1363 391 1709 391 \nQ 2188 391 2477 730 \nQ 2766 1069 2766 1631 \nL 2766 1759 \nL 2194 1759 \nz\nM 3341 1997 \nL 3341 0 \nL 2766 0 \nL 2766 531 \nQ 2569 213 2275 61 \nQ 1981 -91 1556 -91 \nQ 1019 -91 701 211 \nQ 384 513 384 1019 \nQ 384 1609 779 1909 \nQ 1175 2209 1959 2209 \nL 2766 2209 \nL 2766 2266 \nQ 2766 2663 2505 2880 \nQ 2244 3097 1772 3097 \nQ 1472 3097 1187 3025 \nQ 903 2953 641 2809 \nL 641 3341 \nQ 956 3463 1253 3523 \nQ 1550 3584 1831 3584 \nQ 2591 3584 2966 3190 \nQ 3341 2797 3341 1997 \nz\n\" transform=\"scale(0.015625)\"/>\n      <path id=\"DejaVuSans-67\" d=\"M 2906 1791 \nQ 2906 2416 2648 2759 \nQ 2391 3103 1925 3103 \nQ 1463 3103 1205 2759 \nQ 947 2416 947 1791 \nQ 947 1169 1205 825 \nQ 1463 481 1925 481 \nQ 2391 481 2648 825 \nQ 2906 1169 2906 1791 \nz\nM 3481 434 \nQ 3481 -459 3084 -895 \nQ 2688 -1331 1869 -1331 \nQ 1566 -1331 1297 -1286 \nQ 1028 -1241 775 -1147 \nL 775 -588 \nQ 1028 -725 1275 -790 \nQ 1522 -856 1778 -856 \nQ 2344 -856 2625 -561 \nQ 2906 -266 2906 331 \nL 2906 616 \nQ 2728 306 2450 153 \nQ 2172 0 1784 0 \nQ 1141 0 747 490 \nQ 353 981 353 1791 \nQ 353 2603 747 3093 \nQ 1141 3584 1784 3584 \nQ 2172 3584 2450 3431 \nQ 2728 3278 2906 2969 \nL 2906 3500 \nL 3481 3500 \nL 3481 434 \nz\n\" transform=\"scale(0.015625)\"/>\n      <path id=\"DejaVuSans-73\" d=\"M 2834 3397 \nL 2834 2853 \nQ 2591 2978 2328 3040 \nQ 2066 3103 1784 3103 \nQ 1356 3103 1142 2972 \nQ 928 2841 928 2578 \nQ 928 2378 1081 2264 \nQ 1234 2150 1697 2047 \nL 1894 2003 \nQ 2506 1872 2764 1633 \nQ 3022 1394 3022 966 \nQ 3022 478 2636 193 \nQ 2250 -91 1575 -91 \nQ 1294 -91 989 -36 \nQ 684 19 347 128 \nL 347 722 \nQ 666 556 975 473 \nQ 1284 391 1588 391 \nQ 1994 391 2212 530 \nQ 2431 669 2431 922 \nQ 2431 1156 2273 1281 \nQ 2116 1406 1581 1522 \nL 1381 1569 \nQ 847 1681 609 1914 \nQ 372 2147 372 2553 \nQ 372 3047 722 3315 \nQ 1072 3584 1716 3584 \nQ 2034 3584 2315 3537 \nQ 2597 3491 2834 3397 \nz\n\" transform=\"scale(0.015625)\"/>\n      <path id=\"DejaVuSans-74\" d=\"M 1172 4494 \nL 1172 3500 \nL 2356 3500 \nL 2356 3053 \nL 1172 3053 \nL 1172 1153 \nQ 1172 725 1289 603 \nQ 1406 481 1766 481 \nL 2356 481 \nL 2356 0 \nL 1766 0 \nQ 1100 0 847 248 \nQ 594 497 594 1153 \nL 594 3053 \nL 172 3053 \nL 172 3500 \nL 594 3500 \nL 594 4494 \nL 1172 4494 \nz\n\" transform=\"scale(0.015625)\"/>\n      <path id=\"DejaVuSans-71\" d=\"M 947 1747 \nQ 947 1113 1208 752 \nQ 1469 391 1925 391 \nQ 2381 391 2643 752 \nQ 2906 1113 2906 1747 \nQ 2906 2381 2643 2742 \nQ 2381 3103 1925 3103 \nQ 1469 3103 1208 2742 \nQ 947 2381 947 1747 \nz\nM 2906 525 \nQ 2725 213 2448 61 \nQ 2172 -91 1784 -91 \nQ 1150 -91 751 415 \nQ 353 922 353 1747 \nQ 353 2572 751 3078 \nQ 1150 3584 1784 3584 \nQ 2172 3584 2448 3432 \nQ 2725 3281 2906 2969 \nL 2906 3500 \nL 3481 3500 \nL 3481 -1331 \nL 2906 -1331 \nL 2906 525 \nz\n\" transform=\"scale(0.015625)\"/>\n     </defs>\n     <use xlink:href=\"#DejaVuSans-438\"/>\n     <use xlink:href=\"#DejaVuSans-20\" x=\"64.990234\"/>\n     <use xlink:href=\"#DejaVuSans-442\" x=\"96.777344\"/>\n     <use xlink:href=\"#DejaVuSans-43e\" x=\"155.029297\"/>\n     <use xlink:href=\"#DejaVuSans-447\" x=\"216.210938\"/>\n     <use xlink:href=\"#DejaVuSans-43a\" x=\"275.292969\"/>\n     <use xlink:href=\"#DejaVuSans-430\" x=\"335.693359\"/>\n     <use xlink:href=\"#DejaVuSans-2c\" x=\"396.972656\"/>\n     <use xlink:href=\"#DejaVuSans-20\" x=\"428.759766\"/>\n     <use xlink:href=\"#DejaVuSans-43d\" x=\"460.546875\"/>\n     <use xlink:href=\"#DejaVuSans-430\" x=\"525.927734\"/>\n     <use xlink:href=\"#DejaVuSans-439\" x=\"587.207031\"/>\n     <use xlink:href=\"#DejaVuSans-434\" x=\"652.197266\"/>\n     <use xlink:href=\"#DejaVuSans-435\" x=\"721.337891\"/>\n     <use xlink:href=\"#DejaVuSans-43d\" x=\"782.861328\"/>\n     <use xlink:href=\"#DejaVuSans-43d\" x=\"848.242188\"/>\n     <use xlink:href=\"#DejaVuSans-430\" x=\"913.623047\"/>\n     <use xlink:href=\"#DejaVuSans-44f\" x=\"974.902344\"/>\n     <use xlink:href=\"#DejaVuSans-20\" x=\"1035.058594\"/>\n     <use xlink:href=\"#DejaVuSans-441\" x=\"1066.845703\"/>\n     <use xlink:href=\"#DejaVuSans-20\" x=\"1121.826172\"/>\n     <use xlink:href=\"#DejaVuSans-43f\" x=\"1153.613281\"/>\n     <use xlink:href=\"#DejaVuSans-43e\" x=\"1218.994141\"/>\n     <use xlink:href=\"#DejaVuSans-43c\" x=\"1280.175781\"/>\n     <use xlink:href=\"#DejaVuSans-43e\" x=\"1355.615234\"/>\n     <use xlink:href=\"#DejaVuSans-449\" x=\"1416.796875\"/>\n     <use xlink:href=\"#DejaVuSans-44c\" x=\"1510.986328\"/>\n     <use xlink:href=\"#DejaVuSans-44e\" x=\"1569.921875\"/>\n     <use xlink:href=\"#DejaVuSans-20\" x=\"1654.101562\"/>\n     <use xlink:href=\"#DejaVuSans-6c\" x=\"1685.888672\"/>\n     <use xlink:href=\"#DejaVuSans-69\" x=\"1713.671875\"/>\n     <use xlink:href=\"#DejaVuSans-6e\" x=\"1741.455078\"/>\n     <use xlink:href=\"#DejaVuSans-61\" x=\"1804.833984\"/>\n     <use xlink:href=\"#DejaVuSans-6c\" x=\"1866.113281\"/>\n     <use xlink:href=\"#DejaVuSans-67\" x=\"1893.896484\"/>\n     <use xlink:href=\"#DejaVuSans-2e\" x=\"1957.373047\"/>\n     <use xlink:href=\"#DejaVuSans-6c\" x=\"1989.160156\"/>\n     <use xlink:href=\"#DejaVuSans-73\" x=\"2016.943359\"/>\n     <use xlink:href=\"#DejaVuSans-74\" x=\"2069.042969\"/>\n     <use xlink:href=\"#DejaVuSans-73\" x=\"2108.251953\"/>\n     <use xlink:href=\"#DejaVuSans-71\" x=\"2160.351562\"/>\n     <use xlink:href=\"#DejaVuSans-28\" x=\"2223.828125\"/>\n     <use xlink:href=\"#DejaVuSans-29\" x=\"2262.841797\"/>\n    </g>\n   </g>\n   <g id=\"legend_1\">\n    <g id=\"patch_7\">\n     <path d=\"M 40.2875 73.11175 \nL 118.654688 73.11175 \nQ 120.654688 73.11175 120.654688 71.11175 \nL 120.654688 42.7555 \nQ 120.654688 40.7555 118.654688 40.7555 \nL 40.2875 40.7555 \nQ 38.2875 40.7555 38.2875 42.7555 \nL 38.2875 71.11175 \nQ 38.2875 73.11175 40.2875 73.11175 \nz\n\" style=\"fill: #ffffff; opacity: 0.8; stroke: #cccccc; stroke-linejoin: miter\"/>\n    </g>\n    <g id=\"line2d_28\">\n     <path d=\"M 42.2875 48.853938 \nL 52.2875 48.853938 \nL 62.2875 48.853938 \n\" style=\"fill: none; stroke-dasharray: 1.5,2.475; stroke-dashoffset: 0; stroke: #ff0000; stroke-width: 1.5\"/>\n    </g>\n    <g id=\"text_15\">\n     <!-- функция -->\n     <g transform=\"translate(70.2875 52.353938) scale(0.1 -0.1)\">\n      <use xlink:href=\"#DejaVuSans-444\"/>\n      <use xlink:href=\"#DejaVuSans-443\" x=\"85.498047\"/>\n      <use xlink:href=\"#DejaVuSans-43d\" x=\"144.677734\"/>\n      <use xlink:href=\"#DejaVuSans-43a\" x=\"210.058594\"/>\n      <use xlink:href=\"#DejaVuSans-446\" x=\"270.458984\"/>\n      <use xlink:href=\"#DejaVuSans-438\" x=\"338.525391\"/>\n      <use xlink:href=\"#DejaVuSans-44f\" x=\"403.515625\"/>\n     </g>\n    </g>\n    <g id=\"PathCollection_2\">\n     <g>\n      <use xlink:href=\"#mdfa230cd3a\" x=\"52.2875\" y=\"64.407063\" style=\"fill: #5e03fc; stroke: #5e03fc\"/>\n     </g>\n    </g>\n    <g id=\"text_16\">\n     <!-- точка -->\n     <g transform=\"translate(70.2875 67.032063) scale(0.1 -0.1)\">\n      <use xlink:href=\"#DejaVuSans-442\"/>\n      <use xlink:href=\"#DejaVuSans-43e\" x=\"58.251953\"/>\n      <use xlink:href=\"#DejaVuSans-447\" x=\"119.433594\"/>\n      <use xlink:href=\"#DejaVuSans-43a\" x=\"178.515625\"/>\n      <use xlink:href=\"#DejaVuSans-430\" x=\"238.916016\"/>\n     </g>\n    </g>\n   </g>\n  </g>\n </g>\n <defs>\n  <clipPath id=\"pcb7082668f\">\n   <rect x=\"33.2875\" y=\"35.7555\" width=\"558\" height=\"277.2\"/>\n  </clipPath>\n </defs>\n</svg>\n"
          },
          "metadata": {}
        }
      ],
      "source": [
        "def Q(x, y, z):\n",
        "    return(x**2 + y**2 + z**2)\n",
        "plt.figure(figsize=(10, 5))\n",
        "x = np.linspace(0, 3, 200)\n",
        "plt.plot(x, Q(x, 10*x-14, 21 * x - 29), c='r', linestyle=':', label='функция')\n",
        "plt.scatter(1.38191882, -0.18081181, color='#5e03fc', label='точка')\n",
        "plt.xlim([0.5, 2])\n",
        "plt.ylim([-28, 200])\n",
        "plt.grid()\n",
        "plt.legend()\n",
        "plt.title('график функции функции Q(x,y,z), распределяющий норму решения \\nи точка, найденная с помощью linalg.lstsq()');"
      ]
    },
    {
      "cell_type": "markdown",
      "id": "3792ad72",
      "metadata": {
        "id": "3792ad72"
      },
      "source": [
        "## Задание 6.\n",
        "\n",
        "**Найдите одно из псевдорешений вырожденной системы:**\n",
        "\n",
        "$\\begin{bmatrix}\n",
        "1 & 2 & 3\\\\\n",
        "4 & 5 & 6\\\\\n",
        "7 & 8 & 9\n",
        "\\end{bmatrix} \\cdot X = \\begin{bmatrix}2 \\\\5\\\\11\\end{bmatrix}$\n",
        "\n",
        "**Попробуйте также отыскать и нормальное псевдорешение.**"
      ]
    },
    {
      "cell_type": "code",
      "execution_count": 10,
      "id": "3e6a4372",
      "metadata": {
        "colab": {
          "base_uri": "https://localhost:8080/"
        },
        "id": "3e6a4372",
        "outputId": "883e7137-570f-4298-b866-8124358f703c"
      },
      "outputs": [
        {
          "output_type": "stream",
          "name": "stdout",
          "text": [
            "матрица A =\n",
            "[[1 2 3]\n",
            " [4 5 6]\n",
            " [7 8 9]]\n",
            "её ранг = 2\n",
            "\n",
            "вектор B = [ 2  5 11]\n",
            "\n",
            "расширенная матрица C =\n",
            "[[ 1  2  3  2]\n",
            " [ 4  5  6  5]\n",
            " [ 7  8  9 11]]\n",
            "её ранг = 3\n"
          ]
        }
      ],
      "source": [
        "A, B = np.array([[1, 2, 3], [4, 5, 6], [7, 8, 9]]), np.array([2, 5, 11])\n",
        "C = np.array([[1, 2, 3, 2], [4, 5, 6, 5], [7, 8, 9, 11]])\n",
        "print(f'матрица A =\\n{A}\\nеё ранг = {np.linalg.matrix_rank(A)}\\n\\nвектор B = {B}\\n')\n",
        "print(f'расширенная матрица C =\\n{C}\\nеё ранг = {np.linalg.matrix_rank(C)}')"
      ]
    },
    {
      "cell_type": "markdown",
      "id": "5cc8fc64",
      "metadata": {
        "id": "5cc8fc64"
      },
      "source": [
        "$R(A) \\neq R(C) \\Rightarrow$ система несовместная и решений у неё нет, а значит будем искать пседорешение с помощью QR-разложения"
      ]
    },
    {
      "cell_type": "code",
      "execution_count": 11,
      "id": "14d1cc4d",
      "metadata": {
        "colab": {
          "base_uri": "https://localhost:8080/"
        },
        "id": "14d1cc4d",
        "outputId": "64b7b366-5005-497b-c604-294c7464df35"
      },
      "outputs": [
        {
          "output_type": "stream",
          "name": "stdout",
          "text": [
            "матрица Q =\n",
            "[[-0.12309149  0.90453403  0.40824829]\n",
            " [-0.49236596  0.30151134 -0.81649658]\n",
            " [-0.86164044 -0.30151134  0.40824829]]\n",
            "\n",
            "матрица R =\n",
            "[[-8.12403840e+00 -9.60113630e+00 -1.10782342e+01]\n",
            " [ 0.00000000e+00  9.04534034e-01  1.80906807e+00]\n",
            " [ 0.00000000e+00  0.00000000e+00 -8.88178420e-16]]\n"
          ]
        }
      ],
      "source": [
        "Q, R = np.linalg.qr(A)\n",
        "\n",
        "print(f'матрица Q =\\n{Q}\\n\\nматрица R =\\n{R}')"
      ]
    },
    {
      "cell_type": "markdown",
      "id": "593667e8",
      "metadata": {
        "id": "593667e8"
      },
      "source": [
        "выделим срезами R1 и B1 и получим решение системы"
      ]
    },
    {
      "cell_type": "code",
      "execution_count": 12,
      "id": "c2b18dc4",
      "metadata": {
        "colab": {
          "base_uri": "https://localhost:8080/"
        },
        "id": "c2b18dc4",
        "outputId": "c23796d9-3e1b-41ad-f285-fb9686175fca"
      },
      "outputs": [
        {
          "output_type": "stream",
          "name": "stdout",
          "text": [
            "R1 = \n",
            "[[-8.1240384  -9.6011363 ]\n",
            " [ 0.          0.90453403]]\n",
            "\n",
            "B1 = [-1.21860576e+01  3.55271368e-15]\n"
          ]
        }
      ],
      "source": [
        "R1, B1 = R[:2, :2], np.dot(np.transpose(Q), B)[:2]\n",
        "print(f'R1 = \\n{R1}\\n\\nB1 = {B1}')"
      ]
    },
    {
      "cell_type": "markdown",
      "id": "c5ab035c",
      "metadata": {
        "id": "c5ab035c"
      },
      "source": [
        "если 3-я координата вектора будет = 0, определим псевдорешение"
      ]
    },
    {
      "cell_type": "code",
      "execution_count": 13,
      "id": "32a435cf",
      "metadata": {
        "colab": {
          "base_uri": "https://localhost:8080/"
        },
        "id": "32a435cf",
        "outputId": "bc657c70-6e7d-4af3-dd19-f91e3d2bf1bb"
      },
      "outputs": [
        {
          "output_type": "stream",
          "name": "stdout",
          "text": [
            "вектор X = [1.50000000e+00 3.92767275e-15 0.00000000e+00]\n",
            "\n",
            "норма псевдорешения = 1.5\n",
            "\n",
            "норма невязки СЛАУ = 1.2247\n"
          ]
        }
      ],
      "source": [
        "X1 = np.linalg.solve(R1, B1)\n",
        "X = np.append(X1, 0)\n",
        "print(f'вектор X = {X}\\n\\nнорма псевдорешения = {np.round(np.linalg.norm(X), 4)}\\n\\nнорма невязки СЛАУ = {np.round(np.linalg.norm(np.dot(A, X)- B), 4)}')"
      ]
    },
    {
      "cell_type": "markdown",
      "id": "edd1759d",
      "metadata": {
        "id": "edd1759d"
      },
      "source": [
        "при помощи linalg.lstqs() получим нормальное псевдорешение"
      ]
    },
    {
      "cell_type": "code",
      "execution_count": 14,
      "id": "fd0dc906",
      "metadata": {
        "colab": {
          "base_uri": "https://localhost:8080/"
        },
        "id": "fd0dc906",
        "outputId": "b9d79143-e3fc-44c7-c56e-0ff7edb86067"
      },
      "outputs": [
        {
          "output_type": "execute_result",
          "data": {
            "text/plain": [
              "(array([ 1.25,  0.5 , -0.25]),\n",
              " array([], dtype=float64),\n",
              " 2,\n",
              " array([1.68481034e+01, 1.06836951e+00, 4.41842475e-16]))"
            ]
          },
          "metadata": {},
          "execution_count": 14
        }
      ],
      "source": [
        "np.linalg.lstsq(A, B, rcond=None)"
      ]
    }
  ],
  "metadata": {
    "kernelspec": {
      "display_name": "Python 3 (ipykernel)",
      "language": "python",
      "name": "python3"
    },
    "language_info": {
      "codemirror_mode": {
        "name": "ipython",
        "version": 3
      },
      "file_extension": ".py",
      "mimetype": "text/x-python",
      "name": "python",
      "nbconvert_exporter": "python",
      "pygments_lexer": "ipython3",
      "version": "3.9.7"
    },
    "colab": {
      "provenance": []
    }
  },
  "nbformat": 4,
  "nbformat_minor": 5
}