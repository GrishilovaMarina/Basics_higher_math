{
  "nbformat": 4,
  "nbformat_minor": 0,
  "metadata": {
    "colab": {
      "name": "HW_5_probability_theory",
      "provenance": [],
      "collapsed_sections": [],
      "toc_visible": true
    },
    "kernelspec": {
      "name": "python3",
      "display_name": "Python 3"
    },
    "language_info": {
      "name": "python"
    }
  },
  "cells": [
    {
      "cell_type": "markdown",
      "source": [
        "###1. Напишите код, моделирующий выпадение поля в рулетке (с учетом поля зеро)."
      ],
      "metadata": {
        "id": "zwxYUMQt7HSB"
      }
    },
    {
      "cell_type": "code",
      "execution_count": null,
      "metadata": {
        "colab": {
          "base_uri": "https://localhost:8080/"
        },
        "id": "1doNNwoP6SdB",
        "outputId": "ce250007-f596-4348-b242-d4de6263ccbc"
      },
      "outputs": [
        {
          "output_type": "stream",
          "name": "stdout",
          "text": [
            "\n",
            "1\n",
            "\n",
            "1\n",
            "\n",
            "14\n",
            "\n",
            "16\n",
            "\n",
            "27\n"
          ]
        }
      ],
      "source": [
        "import numpy as np\n",
        "for i in range(5):\n",
        "  a = input()\n",
        "  print(np.random.randint(0,37))"
      ]
    },
    {
      "cell_type": "markdown",
      "source": [
        "###2. Напишите код, проверяющий любую из теорем сложения или умножения вероятности на примере рулетки или подбрасывания монетки.\n",
        "\n"
      ],
      "metadata": {
        "id": "9tiu5kyI7OwY"
      }
    },
    {
      "cell_type": "code",
      "source": [
        "from numpy.random.mtrand import random\n",
        "P_a = []\n",
        "P_b = []\n",
        "for i in range(5):\n",
        "  n = input()\n",
        "  x = np.random.randint(0, 2)\n",
        "  if x == 0:\n",
        "    P_a.append(0.5)\n",
        "  else:\n",
        "    P_b.append(0.5)\n",
        "\n",
        "P_ab = np.mean(P_a) + np.mean(P_b)\n",
        "print('Сумма вероятностей выпадения орла и решки равна  {}'.format(P_ab))"
      ],
      "metadata": {
        "colab": {
          "base_uri": "https://localhost:8080/"
        },
        "id": "h2r5Tpa_7Qy6",
        "outputId": "46cd9d8d-cb3b-4ed5-8ba3-8f842186a1e1"
      },
      "execution_count": null,
      "outputs": [
        {
          "output_type": "stream",
          "name": "stdout",
          "text": [
            "\n",
            "\n",
            "\n",
            "\n",
            "\n",
            "Сумма вероятностей выпадения орла и решки равна  1.0\n"
          ]
        }
      ]
    },
    {
      "cell_type": "markdown",
      "source": [
        "###Сгенерируйте десять выборок случайных чисел х0, …, х9. и постройте гистограмму распределения случайной суммы +х0+ …+ х 9."
      ],
      "metadata": {
        "id": "MHCYbcbzEcmg"
      }
    },
    {
      "cell_type": "code",
      "source": [
        "import matplotlib.pyplot as plt\n",
        "\n",
        "sum_x = []\n",
        "for i in range(10):\n",
        "  x = np.random.rand(9)\n",
        "  sum_x.append(np.sum(x))\n",
        "\n",
        "plt.hist(sum_x, bins = 15)\n",
        "plt.xlabel('sum_x')\n",
        "plt.ylabel('Probability')"
      ],
      "metadata": {
        "id": "lh55PkOdw1ao",
        "colab": {
          "base_uri": "https://localhost:8080/",
          "height": 297
        },
        "outputId": "d43fde59-b26e-4341-e232-98ca09651a03"
      },
      "execution_count": null,
      "outputs": [
        {
          "output_type": "execute_result",
          "data": {
            "text/plain": [
              "Text(0, 0.5, 'Probability')"
            ]
          },
          "metadata": {},
          "execution_count": 3
        },
        {
          "output_type": "display_data",
          "data": {
            "text/plain": [
              "<Figure size 432x288 with 1 Axes>"
            ],
            "image/png": "[encoded data removed]"
          },
          "metadata": {
            "needs_background": "light"
          }
        }
      ]
    },
    {
      "cell_type": "markdown",
      "source": [
        "###3.Дополните код Монте-Карло последовательности независимых испытаний расчетом соответствующих вероятностей (через биномиальное распределение) и сравните результаты."
      ],
      "metadata": {
        "id": "eQRZjTbksF4D"
      }
    },
    {
      "cell_type": "code",
      "source": [
        "import itertools\n",
        "import math\n",
        "k, n = 0, 100\n",
        "a = np.random.randint(0,2,n)\n",
        "b = np.random.randint(0,2,n)\n",
        "c = np.random.randint(0,2,n)\n",
        "d = np.random.randint(0,2,n)\n",
        "x = a + b + c + d\n",
        "for i in range(n):\n",
        "  if x[i] == 2:\n",
        "    k = k + 1\n",
        "print(k, n, k/n)\n",
        "\n",
        "C_n_k = math.factorial(4)/(math.factorial(2)*math.factorial(4 - 2))\n",
        "P_k = C_n_k * 1/(2**4)\n",
        "print(P_k)"
      ],
      "metadata": {
        "colab": {
          "base_uri": "https://localhost:8080/"
        },
        "id": "cdBVW72zsXGD",
        "outputId": "464dba6d-7191-4f3d-8d0f-6e48063ebd10"
      },
      "execution_count": null,
      "outputs": [
        {
          "output_type": "stream",
          "name": "stdout",
          "text": [
            "34 100 0.34\n",
            "0.375\n"
          ]
        }
      ]
    },
    {
      "cell_type": "markdown",
      "source": [
        "###Повторите расчеты биномиальных коэффициентов и вероятностей k успехов в последовательности из n независимых испытаний, взяв другие значения n и k."
      ],
      "metadata": {
        "id": "1_lW6-5gsUZL"
      }
    },
    {
      "cell_type": "code",
      "source": [
        "k, n = 0, 1000\n",
        "a = np.random.randint(0,2,n)\n",
        "b = np.random.randint(0,2,n)\n",
        "c = np.random.randint(0,2,n)\n",
        "d = np.random.randint(0,2,n)\n",
        "e = np.random.randint(0,2,n)\n",
        "x = a + b + c + d\n",
        "for i in range(n):\n",
        "  if x[i] == 3:\n",
        "    k = k + 1\n",
        "print(k, n, k/n)\n",
        "\n",
        "C_n_k = math.factorial(5)/(math.factorial(3)*math.factorial(5 - 3))\n",
        "P_k = C_n_k * 1/(2**5)\n",
        "print(P_k)"
      ],
      "metadata": {
        "colab": {
          "base_uri": "https://localhost:8080/"
        },
        "id": "HaYCjElL4hPs",
        "outputId": "a1159499-e167-47fb-d62c-1976c3332153"
      },
      "execution_count": null,
      "outputs": [
        {
          "output_type": "stream",
          "name": "stdout",
          "text": [
            "239 1000 0.239\n",
            "0.3125\n"
          ]
        }
      ]
    },
    {
      "cell_type": "markdown",
      "source": [
        "###4. (не обязательно, но желательно) Из урока по комбинаторике повторите расчеты, сгенерировав возможные варианты перестановок для других значений n и k"
      ],
      "metadata": {
        "id": "M5gm2Lhb5HiS"
      }
    },
    {
      "cell_type": "code",
      "source": [
        "for p in itertools.permutations('01234', 3):\n",
        "  print(' '.join(str(x) for x in p))"
      ],
      "metadata": {
        "colab": {
          "base_uri": "https://localhost:8080/"
        },
        "id": "Xt0FVokM5JxK",
        "outputId": "51868bdb-3df3-4f80-8903-60b27c70f435"
      },
      "execution_count": 14,
      "outputs": [
        {
          "output_type": "stream",
          "name": "stdout",
          "text": [
            "0 1 2\n",
            "0 1 3\n",
            "0 1 4\n",
            "0 2 1\n",
            "0 2 3\n",
            "0 2 4\n",
            "0 3 1\n",
            "0 3 2\n",
            "0 3 4\n",
            "0 4 1\n",
            "0 4 2\n",
            "0 4 3\n",
            "1 0 2\n",
            "1 0 3\n",
            "1 0 4\n",
            "1 2 0\n",
            "1 2 3\n",
            "1 2 4\n",
            "1 3 0\n",
            "1 3 2\n",
            "1 3 4\n",
            "1 4 0\n",
            "1 4 2\n",
            "1 4 3\n",
            "2 0 1\n",
            "2 0 3\n",
            "2 0 4\n",
            "2 1 0\n",
            "2 1 3\n",
            "2 1 4\n",
            "2 3 0\n",
            "2 3 1\n",
            "2 3 4\n",
            "2 4 0\n",
            "2 4 1\n",
            "2 4 3\n",
            "3 0 1\n",
            "3 0 2\n",
            "3 0 4\n",
            "3 1 0\n",
            "3 1 2\n",
            "3 1 4\n",
            "3 2 0\n",
            "3 2 1\n",
            "3 2 4\n",
            "3 4 0\n",
            "3 4 1\n",
            "3 4 2\n",
            "4 0 1\n",
            "4 0 2\n",
            "4 0 3\n",
            "4 1 0\n",
            "4 1 2\n",
            "4 1 3\n",
            "4 2 0\n",
            "4 2 1\n",
            "4 2 3\n",
            "4 3 0\n",
            "4 3 1\n",
            "4 3 2\n"
          ]
        }
      ]
    },
    {
      "cell_type": "code",
      "source": [
        "for p in itertools.combinations('01234', 3):\n",
        "  print(' '.join(p))"
      ],
      "metadata": {
        "colab": {
          "base_uri": "https://localhost:8080/"
        },
        "id": "sFG8k3a_EJOX",
        "outputId": "cd88d49f-a240-48f0-b4ea-a7271cdd94c9"
      },
      "execution_count": 16,
      "outputs": [
        {
          "output_type": "stream",
          "name": "stdout",
          "text": [
            "0 1 2\n",
            "0 1 3\n",
            "0 1 4\n",
            "0 2 3\n",
            "0 2 4\n",
            "0 3 4\n",
            "1 2 3\n",
            "1 2 4\n",
            "1 3 4\n",
            "2 3 4\n"
          ]
        }
      ]
    },
    {
      "cell_type": "markdown",
      "source": [
        "###5. (не обязательно) Дополните код расчетом коэффициента корреляции x и y \n",
        "\n",
        "\n",
        "\n",
        "\n"
      ],
      "metadata": {
        "id": "ZJQ6YydNvDyR"
      }
    },
    {
      "cell_type": "code",
      "source": [
        "n = 100\n",
        "r = 0.7\n",
        "x = np.random.rand(n)\n",
        "y = r*x + (1 - r)*np.random.rand(n)\n",
        "plt.plot(x, y, 'o')\n",
        "plt.xlabel('x')\n",
        "plt.ylabel('y')\n",
        "plt.grid(True)\n",
        "\n",
        "a = (np.sum(x)*np.sum(y) - n*np.sum(x*y))/(np.sum(x)*np.sum(x) - n*np.sum(x*x))\n",
        "b = (np.sum(y) - a*np.sum(x))/n\n",
        "R = (np.sum((x - np.mean(x))*(y - np.mean(y))))/np.sqrt((np.sum((x - np.mean(x))**2))*(np.sum((y - np.mean(y))**2)))\n",
        "\n",
        "A = np.vstack([x, np.ones(len(x))]).T\n",
        "a1, b1 = np.linalg.lstsq(A, y)[0]\n",
        "R1 = np.corrcoef(x, y)\n",
        "\n",
        "print(a, b)\n",
        "print(a1, b1)\n",
        "print(R)\n",
        "print(R1)\n",
        "\n",
        "plt.plot([0, 1], [b, a + b])\n",
        "plt.show()\n"
      ],
      "metadata": {
        "colab": {
          "base_uri": "https://localhost:8080/",
          "height": 427
        },
        "id": "P4fA9WwpzwuJ",
        "outputId": "29ef94ce-f30b-401e-c598-b18751abfece"
      },
      "execution_count": 12,
      "outputs": [
        {
          "output_type": "stream",
          "name": "stderr",
          "text": [
            "/usr/local/lib/python3.7/dist-packages/ipykernel_launcher.py:15: FutureWarning: `rcond` parameter will change to the default of machine precision times ``max(M, N)`` where M and N are the input matrix dimensions.\n",
            "To use the future default and silence this warning we advise to pass `rcond=None`, to keep using the old, explicitly pass `rcond=-1`.\n",
            "  from ipykernel import kernelapp as app\n"
          ]
        },
        {
          "output_type": "stream",
          "name": "stdout",
          "text": [
            "0.7055024477003544 0.15313980569529748\n",
            "0.7055024477003548 0.15313980569529761\n",
            "0.923476730893219\n",
            "[[1.         0.92347673]\n",
            " [0.92347673 1.        ]]\n"
          ]
        },
        {
          "output_type": "display_data",
          "data": {
            "text/plain": [
              "<Figure size 432x288 with 1 Axes>"
            ],
            "image/png": "[encoded data removed]"
          },
          "metadata": {
            "needs_background": "light"
          }
        }
      ]
    }
  ]
}